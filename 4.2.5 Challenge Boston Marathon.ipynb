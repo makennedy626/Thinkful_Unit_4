{
 "cells": [
  {
   "cell_type": "markdown",
   "metadata": {},
   "source": [
    "You now have a pretty varied suite of clustering and clustering evaluation methods; we'd be remiss if we didn't give you the opportunity to try them out on some real data. So here we go!\n",
    "\n",
    "There is a lot of information on runners and their performance for the Boston Marathon. Pick a year (post-2012 has more info) and do some clustering.\n",
    "\n",
    "Specifically, use the tools at hand to determine which clustering solution, including number of clusters and algorithm used, is best for the marathon data. Once you have a solution you like, write a data story, including visualizations, where you teach the reader something about the Boston Marathon based on your clusters. Write up your report, including your process from start to finish, in a Jupyter notebook and submit it below.\n",
    "\n"
   ]
  },
  {
   "cell_type": "markdown",
   "metadata": {},
   "source": [
    "# Questions:\n",
    "\n",
    "### When clustering by marathon times, will the result lead to groups of  similar ages? genders? countries?"
   ]
  },
  {
   "cell_type": "code",
   "execution_count": 1,
   "metadata": {
    "collapsed": true
   },
   "outputs": [],
   "source": [
    "import numpy as np\n",
    "import pandas as pd\n",
    "import scipy\n",
    "import matplotlib.pyplot as plt\n",
    "import seaborn as sns\n",
    "%matplotlib inline\n",
    "from sklearn.datasets.samples_generator import make_blobs\n",
    "from sklearn.model_selection import train_test_split\n",
    "from sklearn.cluster import KMeans\n",
    "from sklearn.preprocessing import normalize\n",
    "from sklearn.decomposition import PCA\n",
    "from sklearn.cluster import MiniBatchKMeans"
   ]
  },
  {
   "cell_type": "code",
   "execution_count": 2,
   "metadata": {
    "collapsed": true
   },
   "outputs": [],
   "source": [
    "# 2014 data\n",
    "original = pd.read_csv('D:\\\\Data\\\\results.csv')\n",
    "#original = pd.read_csv('C:\\\\Users\\\\mkennedy\\\\Documents\\\\GitHub\\\\Thinkful_Unit_4\\\\results.csv')"
   ]
  },
  {
   "cell_type": "code",
   "execution_count": 23,
   "metadata": {
    "collapsed": true
   },
   "outputs": [],
   "source": [
    "data = original"
   ]
  },
  {
   "cell_type": "code",
   "execution_count": 4,
   "metadata": {
    "scrolled": true
   },
   "outputs": [
    {
     "data": {
      "text/html": [
       "<div>\n",
       "<style>\n",
       "    .dataframe thead tr:only-child th {\n",
       "        text-align: right;\n",
       "    }\n",
       "\n",
       "    .dataframe thead th {\n",
       "        text-align: left;\n",
       "    }\n",
       "\n",
       "    .dataframe tbody tr th {\n",
       "        vertical-align: top;\n",
       "    }\n",
       "</style>\n",
       "<table border=\"1\" class=\"dataframe\">\n",
       "  <thead>\n",
       "    <tr style=\"text-align: right;\">\n",
       "      <th></th>\n",
       "      <th>10k</th>\n",
       "      <th>name</th>\n",
       "      <th>division</th>\n",
       "      <th>25k</th>\n",
       "      <th>gender</th>\n",
       "      <th>age</th>\n",
       "      <th>official</th>\n",
       "      <th>bib</th>\n",
       "      <th>genderdiv</th>\n",
       "      <th>ctz</th>\n",
       "      <th>...</th>\n",
       "      <th>overall</th>\n",
       "      <th>pace</th>\n",
       "      <th>state</th>\n",
       "      <th>30k</th>\n",
       "      <th>5k</th>\n",
       "      <th>half</th>\n",
       "      <th>20k</th>\n",
       "      <th>country</th>\n",
       "      <th>city</th>\n",
       "      <th>40k</th>\n",
       "    </tr>\n",
       "  </thead>\n",
       "  <tbody>\n",
       "    <tr>\n",
       "      <th>0</th>\n",
       "      <td>17.37</td>\n",
       "      <td>Yamamoto, Hiroyuki</td>\n",
       "      <td>8</td>\n",
       "      <td>47.67</td>\n",
       "      <td>M</td>\n",
       "      <td>47</td>\n",
       "      <td>85.25</td>\n",
       "      <td>W1</td>\n",
       "      <td>8</td>\n",
       "      <td>NaN</td>\n",
       "      <td>...</td>\n",
       "      <td>8</td>\n",
       "      <td>3.27</td>\n",
       "      <td>NaN</td>\n",
       "      <td>59.18</td>\n",
       "      <td>8.02</td>\n",
       "      <td>39.72</td>\n",
       "      <td>37.65</td>\n",
       "      <td>JPN</td>\n",
       "      <td>Fukuoka</td>\n",
       "      <td>80.43</td>\n",
       "    </tr>\n",
       "    <tr>\n",
       "      <th>1</th>\n",
       "      <td>32.58</td>\n",
       "      <td>Jeptoo, Rita</td>\n",
       "      <td>1</td>\n",
       "      <td>82.43</td>\n",
       "      <td>F</td>\n",
       "      <td>33</td>\n",
       "      <td>138.95</td>\n",
       "      <td>F1</td>\n",
       "      <td>1</td>\n",
       "      <td>NaN</td>\n",
       "      <td>...</td>\n",
       "      <td>21</td>\n",
       "      <td>5.30</td>\n",
       "      <td>NaN</td>\n",
       "      <td>99.33</td>\n",
       "      <td>16.22</td>\n",
       "      <td>69.47</td>\n",
       "      <td>65.83</td>\n",
       "      <td>KEN</td>\n",
       "      <td>Eldoret</td>\n",
       "      <td>132.10</td>\n",
       "    </tr>\n",
       "    <tr>\n",
       "      <th>2</th>\n",
       "      <td>16.62</td>\n",
       "      <td>Van Dyk, Ernst F.</td>\n",
       "      <td>1</td>\n",
       "      <td>45.80</td>\n",
       "      <td>M</td>\n",
       "      <td>41</td>\n",
       "      <td>80.60</td>\n",
       "      <td>W2</td>\n",
       "      <td>1</td>\n",
       "      <td>NaN</td>\n",
       "      <td>...</td>\n",
       "      <td>1</td>\n",
       "      <td>3.08</td>\n",
       "      <td>NaN</td>\n",
       "      <td>56.45</td>\n",
       "      <td>7.75</td>\n",
       "      <td>38.03</td>\n",
       "      <td>36.10</td>\n",
       "      <td>RSA</td>\n",
       "      <td>Paarl</td>\n",
       "      <td>76.10</td>\n",
       "    </tr>\n",
       "    <tr>\n",
       "      <th>3</th>\n",
       "      <td>32.57</td>\n",
       "      <td>Dibaba, Mare</td>\n",
       "      <td>3</td>\n",
       "      <td>82.43</td>\n",
       "      <td>F</td>\n",
       "      <td>24</td>\n",
       "      <td>140.58</td>\n",
       "      <td>F2</td>\n",
       "      <td>3</td>\n",
       "      <td>NaN</td>\n",
       "      <td>...</td>\n",
       "      <td>27</td>\n",
       "      <td>5.37</td>\n",
       "      <td>NaN</td>\n",
       "      <td>99.33</td>\n",
       "      <td>16.20</td>\n",
       "      <td>69.47</td>\n",
       "      <td>65.83</td>\n",
       "      <td>ETH</td>\n",
       "      <td>Shoa</td>\n",
       "      <td>132.95</td>\n",
       "    </tr>\n",
       "    <tr>\n",
       "      <th>4</th>\n",
       "      <td>17.12</td>\n",
       "      <td>Hokinoue, Kota</td>\n",
       "      <td>2</td>\n",
       "      <td>46.37</td>\n",
       "      <td>M</td>\n",
       "      <td>40</td>\n",
       "      <td>81.23</td>\n",
       "      <td>W3</td>\n",
       "      <td>2</td>\n",
       "      <td>NaN</td>\n",
       "      <td>...</td>\n",
       "      <td>2</td>\n",
       "      <td>3.10</td>\n",
       "      <td>NaN</td>\n",
       "      <td>57.03</td>\n",
       "      <td>8.02</td>\n",
       "      <td>38.60</td>\n",
       "      <td>36.58</td>\n",
       "      <td>JPN</td>\n",
       "      <td>Nogata Fukuoka</td>\n",
       "      <td>76.72</td>\n",
       "    </tr>\n",
       "  </tbody>\n",
       "</table>\n",
       "<p>5 rows × 21 columns</p>\n",
       "</div>"
      ],
      "text/plain": [
       "     10k                name  division    25k gender  age  official bib  \\\n",
       "0  17.37  Yamamoto, Hiroyuki         8  47.67      M   47     85.25  W1   \n",
       "1  32.58        Jeptoo, Rita         1  82.43      F   33    138.95  F1   \n",
       "2  16.62   Van Dyk, Ernst F.         1  45.80      M   41     80.60  W2   \n",
       "3  32.57        Dibaba, Mare         3  82.43      F   24    140.58  F2   \n",
       "4  17.12      Hokinoue, Kota         2  46.37      M   40     81.23  W3   \n",
       "\n",
       "   genderdiv  ctz   ...   overall  pace  state    30k     5k   half    20k  \\\n",
       "0          8  NaN   ...         8  3.27    NaN  59.18   8.02  39.72  37.65   \n",
       "1          1  NaN   ...        21  5.30    NaN  99.33  16.22  69.47  65.83   \n",
       "2          1  NaN   ...         1  3.08    NaN  56.45   7.75  38.03  36.10   \n",
       "3          3  NaN   ...        27  5.37    NaN  99.33  16.20  69.47  65.83   \n",
       "4          2  NaN   ...         2  3.10    NaN  57.03   8.02  38.60  36.58   \n",
       "\n",
       "  country            city     40k  \n",
       "0     JPN         Fukuoka   80.43  \n",
       "1     KEN         Eldoret  132.10  \n",
       "2     RSA           Paarl   76.10  \n",
       "3     ETH            Shoa  132.95  \n",
       "4     JPN  Nogata Fukuoka   76.72  \n",
       "\n",
       "[5 rows x 21 columns]"
      ]
     },
     "execution_count": 4,
     "metadata": {},
     "output_type": "execute_result"
    }
   ],
   "source": [
    "data.head()"
   ]
  },
  {
   "cell_type": "code",
   "execution_count": 5,
   "metadata": {},
   "outputs": [
    {
     "data": {
      "text/plain": [
       "10k           object\n",
       "name          object\n",
       "division       int64\n",
       "25k           object\n",
       "gender        object\n",
       "age            int64\n",
       "official     float64\n",
       "bib           object\n",
       "genderdiv      int64\n",
       "ctz           object\n",
       "35k           object\n",
       "overall        int64\n",
       "pace         float64\n",
       "state         object\n",
       "30k           object\n",
       "5k            object\n",
       "half          object\n",
       "20k           object\n",
       "country       object\n",
       "city          object\n",
       "40k           object\n",
       "dtype: object"
      ]
     },
     "execution_count": 5,
     "metadata": {},
     "output_type": "execute_result"
    }
   ],
   "source": [
    "data.dtypes"
   ]
  },
  {
   "cell_type": "code",
   "execution_count": 6,
   "metadata": {
    "collapsed": true
   },
   "outputs": [],
   "source": [
    "div_data = pd.get_dummies(data.division)\n",
    "data = pd.concat([data, div_data], axis=1)"
   ]
  },
  {
   "cell_type": "code",
   "execution_count": 7,
   "metadata": {
    "collapsed": true
   },
   "outputs": [],
   "source": [
    "gen_data = pd.get_dummies(data.gender)\n",
    "data = pd.concat([data, gen_data], axis=1)"
   ]
  },
  {
   "cell_type": "code",
   "execution_count": 8,
   "metadata": {
    "collapsed": true
   },
   "outputs": [],
   "source": [
    "bib_data = pd.get_dummies(data.bib)\n",
    "data = pd.concat([data, bib_data], axis=1)"
   ]
  },
  {
   "cell_type": "code",
   "execution_count": 9,
   "metadata": {
    "collapsed": true
   },
   "outputs": [],
   "source": [
    "ctz_data = pd.get_dummies(data.ctz)\n",
    "data = pd.concat([data, ctz_data], axis=1)"
   ]
  },
  {
   "cell_type": "code",
   "execution_count": 10,
   "metadata": {
    "collapsed": true
   },
   "outputs": [],
   "source": [
    "state_data = pd.get_dummies(data.state)\n",
    "data = pd.concat([data, state_data], axis=1)"
   ]
  },
  {
   "cell_type": "code",
   "execution_count": 11,
   "metadata": {
    "collapsed": true
   },
   "outputs": [],
   "source": [
    "country_data = pd.get_dummies(data.country)\n",
    "data = pd.concat([data, country_data], axis=1)"
   ]
  },
  {
   "cell_type": "code",
   "execution_count": 12,
   "metadata": {
    "collapsed": true
   },
   "outputs": [],
   "source": [
    "city_data = pd.get_dummies(data.city)\n",
    "data = pd.concat([data, city_data], axis=1)"
   ]
  },
  {
   "cell_type": "code",
   "execution_count": 24,
   "metadata": {},
   "outputs": [
    {
     "data": {
      "text/plain": [
       "0         39.72\n",
       "1         69.47\n",
       "2         38.03\n",
       "3         69.47\n",
       "4         38.60\n",
       "5         69.47\n",
       "6         39.72\n",
       "7         64.85\n",
       "8         38.60\n",
       "9         65.23\n",
       "10        69.47\n",
       "11        64.87\n",
       "12        41.18\n",
       "13        71.10\n",
       "14        40.20\n",
       "15        71.68\n",
       "16        39.12\n",
       "17        69.47\n",
       "18        41.20\n",
       "19        73.95\n",
       "20        64.90\n",
       "21        70.25\n",
       "22        64.88\n",
       "23        41.20\n",
       "24        41.80\n",
       "25        71.45\n",
       "26        64.88\n",
       "27        41.82\n",
       "28        70.27\n",
       "29        64.90\n",
       "          ...  \n",
       "31954    118.22\n",
       "31955    147.12\n",
       "31956    119.05\n",
       "31957    118.47\n",
       "31958    160.02\n",
       "31959    146.87\n",
       "31960    131.37\n",
       "31961    162.62\n",
       "31962    163.02\n",
       "31963    104.17\n",
       "31964    122.37\n",
       "31965    155.13\n",
       "31966    159.45\n",
       "31967    123.83\n",
       "31968    172.48\n",
       "31969    140.83\n",
       "31970    124.03\n",
       "31971    157.35\n",
       "31972    154.50\n",
       "31973    153.02\n",
       "31974    183.28\n",
       "31975    170.82\n",
       "31976    135.50\n",
       "31977    136.98\n",
       "31978    173.45\n",
       "31979    104.78\n",
       "31980    135.85\n",
       "31981    130.57\n",
       "31982    137.03\n",
       "31983    114.13\n",
       "Name: half, Length: 31984, dtype: object"
      ]
     },
     "execution_count": 24,
     "metadata": {},
     "output_type": "execute_result"
    }
   ],
   "source": [
    "data.half.astype(float, errors='ignore')"
   ]
  },
  {
   "cell_type": "code",
   "execution_count": 25,
   "metadata": {},
   "outputs": [
    {
     "data": {
      "text/plain": [
       "0         85.25\n",
       "1        138.95\n",
       "2         80.60\n",
       "3        140.58\n",
       "4         81.23\n",
       "5        140.68\n",
       "6         84.65\n",
       "7        129.83\n",
       "8         81.23\n",
       "9        137.83\n",
       "10       143.00\n",
       "11       128.80\n",
       "12        86.95\n",
       "13       152.07\n",
       "14        87.40\n",
       "15       143.90\n",
       "16        84.70\n",
       "17       139.98\n",
       "18        84.88\n",
       "19       150.48\n",
       "20       128.83\n",
       "21       141.48\n",
       "22       137.20\n",
       "23        86.95\n",
       "24        89.40\n",
       "25       147.67\n",
       "26       132.72\n",
       "27        89.52\n",
       "28       143.37\n",
       "29       132.57\n",
       "          ...  \n",
       "31954    250.65\n",
       "31955    293.53\n",
       "31956    279.85\n",
       "31957    254.08\n",
       "31958    364.88\n",
       "31959    313.63\n",
       "31960    294.28\n",
       "31961    370.85\n",
       "31962    370.83\n",
       "31963    248.93\n",
       "31964    260.03\n",
       "31965    336.80\n",
       "31966    371.38\n",
       "31967    262.35\n",
       "31968    364.60\n",
       "31969    340.62\n",
       "31970    278.13\n",
       "31971    342.77\n",
       "31972    331.83\n",
       "31973    356.20\n",
       "31974    431.73\n",
       "31975    385.13\n",
       "31976    288.85\n",
       "31977    302.93\n",
       "31978    374.22\n",
       "31979    211.75\n",
       "31980    302.52\n",
       "31981    282.00\n",
       "31982    302.73\n",
       "31983    228.30\n",
       "Name: official, Length: 31984, dtype: float64"
      ]
     },
     "execution_count": 25,
     "metadata": {},
     "output_type": "execute_result"
    }
   ],
   "source": [
    "data.official.astype(float)"
   ]
  },
  {
   "cell_type": "code",
   "execution_count": 27,
   "metadata": {},
   "outputs": [],
   "source": [
    "data = data[data.half != '-']"
   ]
  },
  {
   "cell_type": "code",
   "execution_count": 91,
   "metadata": {},
   "outputs": [],
   "source": [
    "X = data[['official', 'half']]\n",
    "X = normalize(X, axis =0)\n",
    "y = data['gender']"
   ]
  },
  {
   "cell_type": "code",
   "execution_count": 102,
   "metadata": {},
   "outputs": [
    {
     "data": {
      "image/png": "[encoded data removed]",
      "text/plain": [
       "<matplotlib.figure.Figure at 0x24201fcfd30>"
      ]
     },
     "metadata": {},
     "output_type": "display_data"
    },
    {
     "name": "stdout",
     "output_type": "stream",
     "text": [
      "Comparing k-means clusters against the data:\n",
      "gender     F     M\n",
      "row_0             \n",
      "0       6721  5231\n",
      "1       1911  1522\n",
      "2       1656  7287\n",
      "3       3912  3477\n"
     ]
    }
   ],
   "source": [
    "# Using k-means\n",
    "\n",
    "# Calculate predicted values.\n",
    "# After experimenting with different n_clusters, 4 yields best results\n",
    "y_pred = KMeans(n_clusters=4, random_state=42).fit_predict(X)\n",
    "\n",
    "# Plot the solution.\n",
    "plt.scatter(X[:, 0], X[:, 1], c=y_pred)\n",
    "plt.show()\n",
    "\n",
    "# Check the solution against the data.\n",
    "print('Comparing k-means clusters against the data:')\n",
    "print(pd.crosstab(y_pred, y))"
   ]
  },
  {
   "cell_type": "code",
   "execution_count": 103,
   "metadata": {
    "collapsed": true
   },
   "outputs": [],
   "source": [
    "# Will adding more features improve the clustering?\n",
    "# Adding age\n",
    "X = data[['official', 'half', 'age']]\n",
    "X = normalize(X, axis =0)\n",
    "y = data['gender']"
   ]
  },
  {
   "cell_type": "code",
   "execution_count": 104,
   "metadata": {},
   "outputs": [
    {
     "data": {
      "image/png": "[encoded data removed]",
      "text/plain": [
       "<matplotlib.figure.Figure at 0x242085d9be0>"
      ]
     },
     "metadata": {},
     "output_type": "display_data"
    },
    {
     "name": "stdout",
     "output_type": "stream",
     "text": [
      "Comparing k-means clusters against the data:\n",
      "gender     F     M\n",
      "row_0             \n",
      "0       4304  4903\n",
      "1       2031  3101\n",
      "2       4483  7310\n",
      "3       3382  2203\n"
     ]
    }
   ],
   "source": [
    "# Using k-means\n",
    "\n",
    "# Calculate predicted values.\n",
    "y_pred = KMeans(n_clusters=4, random_state=42).fit_predict(X)\n",
    "\n",
    "# Plot the solution.\n",
    "plt.scatter(X[:, 0], X[:, 1], c=y_pred)\n",
    "plt.show()\n",
    "\n",
    "# Check the solution against the data.\n",
    "print('Comparing k-means clusters against the data:')\n",
    "print(pd.crosstab(y_pred, y))"
   ]
  },
  {
   "cell_type": "code",
   "execution_count": 105,
   "metadata": {},
   "outputs": [],
   "source": [
    "# Adding age made the clustering worse.\n",
    "# Try adding division and dropping age.\n",
    "\n",
    "X = data[['official', 'half', 'division']]\n",
    "X = normalize(X, axis =0)\n",
    "y = data['gender']"
   ]
  },
  {
   "cell_type": "code",
   "execution_count": 106,
   "metadata": {},
   "outputs": [
    {
     "data": {
      "image/png": "[encoded data removed]",
      "text/plain": [
       "<matplotlib.figure.Figure at 0x242085caf28>"
      ]
     },
     "metadata": {},
     "output_type": "display_data"
    },
    {
     "name": "stdout",
     "output_type": "stream",
     "text": [
      "Comparing k-means clusters against the data:\n",
      "gender      F      M\n",
      "row_0               \n",
      "0       10278  14552\n",
      "1        3922   2965\n"
     ]
    }
   ],
   "source": [
    "# Using k-means\n",
    "\n",
    "# Calculate predicted values.\n",
    "y_pred = KMeans(n_clusters=2, random_state=42).fit_predict(X)\n",
    "\n",
    "# Plot the solution.\n",
    "plt.scatter(X[:, 0], X[:, 1], c=y_pred)\n",
    "plt.show()\n",
    "\n",
    "# Check the solution against the data.\n",
    "print('Comparing k-means clusters against the data:')\n",
    "print(pd.crosstab(y_pred, y))"
   ]
  },
  {
   "cell_type": "code",
   "execution_count": 107,
   "metadata": {},
   "outputs": [
    {
     "name": "stdout",
     "output_type": "stream",
     "text": [
      "Number of estimated clusters: 2\n"
     ]
    }
   ],
   "source": [
    "from sklearn.cluster import MeanShift, estimate_bandwidth\n",
    "\n",
    "# Here we set the bandwidth. This function automatically derives a bandwidth\n",
    "# number based on an inspection of the distances among points in the data.\n",
    "bandwidth = estimate_bandwidth(X, quantile=0.2, n_samples=500)\n",
    "\n",
    "# Declare and fit the model.\n",
    "ms = MeanShift(bandwidth=bandwidth, bin_seeding=True)\n",
    "ms.fit(X)\n",
    "\n",
    "# Extract cluster assignments for each data point.\n",
    "labels = ms.labels_\n",
    "\n",
    "# Coordinates of the cluster centers.\n",
    "cluster_centers = ms.cluster_centers_\n",
    "\n",
    "# Count our clusters.\n",
    "n_clusters_ = len(np.unique(labels))\n",
    "\n",
    "print(\"Number of estimated clusters: {}\".format(n_clusters_))"
   ]
  },
  {
   "cell_type": "code",
   "execution_count": 108,
   "metadata": {},
   "outputs": [
    {
     "data": {
      "image/png": "[encoded data removed]",
      "text/plain": [
       "<matplotlib.figure.Figure at 0x242040b4470>"
      ]
     },
     "metadata": {},
     "output_type": "display_data"
    },
    {
     "name": "stdout",
     "output_type": "stream",
     "text": [
      "Comparing the assigned categories to the ones in the data:\n",
      "col_0       0     1\n",
      "gender             \n",
      "F       11897  2303\n",
      "M       16228  1289\n"
     ]
    }
   ],
   "source": [
    "plt.scatter(X[:, 0], X[:, 1], c=labels)\n",
    "plt.show()\n",
    "\n",
    "print('Comparing the assigned categories to the ones in the data:')\n",
    "print(pd.crosstab(y,labels))"
   ]
  },
  {
   "cell_type": "code",
   "execution_count": 109,
   "metadata": {},
   "outputs": [],
   "source": [
    "# Meanshift only produced one cluster.\n",
    "\n",
    "data = data[data['40k'] != '-']\n",
    "\n",
    "X = data[['official', 'half', '40k']]\n",
    "X = normalize(X, axis =0)\n",
    "y = data['gender']"
   ]
  },
  {
   "cell_type": "code",
   "execution_count": 110,
   "metadata": {},
   "outputs": [
    {
     "data": {
      "image/png": "[encoded data removed]",
      "text/plain": [
       "<matplotlib.figure.Figure at 0x24206192080>"
      ]
     },
     "metadata": {},
     "output_type": "display_data"
    },
    {
     "name": "stdout",
     "output_type": "stream",
     "text": [
      "Comparing k-means clusters against the data:\n",
      "gender     F     M\n",
      "row_0             \n",
      "0       1806  7317\n",
      "1       6687  5241\n",
      "2       3819  3405\n",
      "3       1888  1554\n"
     ]
    }
   ],
   "source": [
    "# Using k-means\n",
    "\n",
    "# Calculate predicted values.\n",
    "y_pred = KMeans(n_clusters=4, random_state=42).fit_predict(X)\n",
    "\n",
    "# Plot the solution.\n",
    "plt.scatter(X[:, 0], X[:, 1], c=y_pred)\n",
    "plt.show()\n",
    "\n",
    "# Check the solution against the data.\n",
    "print('Comparing k-means clusters against the data:')\n",
    "print(pd.crosstab(y_pred, y))"
   ]
  },
  {
   "cell_type": "code",
   "execution_count": 111,
   "metadata": {},
   "outputs": [],
   "source": [
    "data = data[data['25k'] != '-']\n",
    "\n",
    "# Turn country into values, by first making it into a list, then applying .index(l)\n",
    "countries = data.country.tolist()\n",
    "indexes=[countries.index(l) for l in countries]\n",
    "data['countries'] = indexes\n",
    "\n",
    "X = data[['official', 'half', '40k', '25k']]\n",
    "X = normalize(X, axis =0)\n",
    "y = data['gender']\n",
    "y_cntry = data['countries']"
   ]
  },
  {
   "cell_type": "code",
   "execution_count": 116,
   "metadata": {},
   "outputs": [
    {
     "ename": "NameError",
     "evalue": "name 'axis' is not defined",
     "output_type": "error",
     "traceback": [
      "\u001b[1;31m---------------------------------------------------------------------------\u001b[0m",
      "\u001b[1;31mNameError\u001b[0m                                 Traceback (most recent call last)",
      "\u001b[1;32m<ipython-input-116-04889df493b8>\u001b[0m in \u001b[0;36m<module>\u001b[1;34m()\u001b[0m\n\u001b[0;32m      5\u001b[0m \u001b[1;33m\u001b[0m\u001b[0m\n\u001b[0;32m      6\u001b[0m \u001b[1;31m# Plot the solution.\u001b[0m\u001b[1;33m\u001b[0m\u001b[1;33m\u001b[0m\u001b[0m\n\u001b[1;32m----> 7\u001b[1;33m \u001b[0mfigure\u001b[0m\u001b[1;33m,\u001b[0m\u001b[0maxis\u001b[0m \u001b[1;33m=\u001b[0m \u001b[0mplt\u001b[0m\u001b[1;33m.\u001b[0m\u001b[0mscatter\u001b[0m\u001b[1;33m(\u001b[0m\u001b[0mX\u001b[0m\u001b[1;33m[\u001b[0m\u001b[1;33m:\u001b[0m\u001b[1;33m,\u001b[0m \u001b[1;36m0\u001b[0m\u001b[1;33m]\u001b[0m\u001b[1;33m,\u001b[0m \u001b[0mX\u001b[0m\u001b[1;33m[\u001b[0m\u001b[1;33m:\u001b[0m\u001b[1;33m,\u001b[0m \u001b[1;36m1\u001b[0m\u001b[1;33m]\u001b[0m\u001b[1;33m,\u001b[0m \u001b[0mc\u001b[0m\u001b[1;33m=\u001b[0m\u001b[0my_pred\u001b[0m\u001b[1;33m)\u001b[0m\u001b[1;33m,\u001b[0m \u001b[0maxis\u001b[0m\u001b[1;33m.\u001b[0m\u001b[0mlegend\u001b[0m\u001b[1;33m\u001b[0m\u001b[0m\n\u001b[0m\u001b[0;32m      8\u001b[0m \u001b[1;33m\u001b[0m\u001b[0m\n\u001b[0;32m      9\u001b[0m \u001b[0mplt\u001b[0m\u001b[1;33m.\u001b[0m\u001b[0mshow\u001b[0m\u001b[1;33m(\u001b[0m\u001b[1;33m)\u001b[0m\u001b[1;33m\u001b[0m\u001b[0m\n",
      "\u001b[1;31mNameError\u001b[0m: name 'axis' is not defined"
     ]
    },
    {
     "data": {
      "image/png": "[encoded data removed]",
      "text/plain": [
       "<matplotlib.figure.Figure at 0x24205a46f60>"
      ]
     },
     "metadata": {},
     "output_type": "display_data"
    }
   ],
   "source": [
    "# Using k-means\n",
    "\n",
    "# Calculate predicted values.\n",
    "y_pred = KMeans(n_clusters=4, random_state=42).fit_predict(X)\n",
    "\n",
    "# Plot the solution.\n",
    "figure,axis = plt.scatter(X[:, 0], X[:, 1], c=y_pred)\n",
    "axis.legend()\n",
    "plt.show()\n",
    "\n",
    "# Check the solution against the data.\n",
    "print('Comparing k-means clusters against the data:')\n",
    "print(pd.crosstab(y_pred, y))"
   ]
  },
  {
   "cell_type": "code",
   "execution_count": 88,
   "metadata": {},
   "outputs": [
    {
     "data": {
      "image/png": "[encoded data removed]",
      "text/plain": [
       "<matplotlib.figure.Figure at 0x24204013d68>"
      ]
     },
     "metadata": {},
     "output_type": "display_data"
    },
    {
     "name": "stdout",
     "output_type": "stream",
     "text": [
      "Comparing k-means clusters against the data:\n",
      "col_0       0    1    2    3    4    5    6    7    8   9  ...    68   69  70  \\\n",
      "countries                                                  ...                  \n",
      "0            4    4    0    2    1    1    3    6    3   2 ...     0    1   0   \n",
      "1            0    0    0    0    0    0    0    0    1   9 ...     0    0   0   \n",
      "2            1    0    0    1    1    2    0    0    3   1 ...     0    0   0   \n",
      "3            0    0    0    0    0    0    0    0    0   5 ...     0    0   0   \n",
      "6            0    3    0    0    0    1    0    5    1   0 ...     0    0   0   \n",
      "9          508  786  149  621  386  543  165  621  433  27 ...   426  213  14   \n",
      "12           2    5    0    5    2    2    0    3    0   0 ...     0    0   0   \n",
      "14          37   70    1   57    8   58    6   44   23   1 ...    43    4   3   \n",
      "16           0    4    0    1    0    2    0    3    0   0 ...     1    0   0   \n",
      "18           0    0    0    0    0    1    0    1    1   0 ...     1    0   0   \n",
      "19           0    3    0    0    0    2    0    0    0   1 ...     1    0   0   \n",
      "21           0    0    0    0    0    0    0    0    0   1 ...     0    0   0   \n",
      "26           0    0    0    0    0    0    0    0    0   1 ...     0    0   0   \n",
      "50           0    0    0    0    0    0    0    1    0   1 ...     0    0   0   \n",
      "52           0    2    0    2    3    3    1    7    0   0 ...     1    0   1   \n",
      "56           0    0    0    0    0    0    0    0    0   0 ...     0    0   0   \n",
      "61           2    0    0    0    0    3    1    0    0   0 ...     0    0   0   \n",
      "118          0    5    0    4    0    7    0    5    3   0 ...     3    1   0   \n",
      "129          8    2    1    6    4    1    0    5    5   0 ...     4    0   0   \n",
      "136          7   16    0    9    2    8    1   16    4   0 ...     5    1   0   \n",
      "147          3    9    1    0    0    4    1    5    3   0 ...     0    0   0   \n",
      "187          0    6    0    0    0    2    0    8    1   0 ...     2    1   0   \n",
      "191          1    0    0    1    0    1    0    0    0   0 ...     0    0   0   \n",
      "370          1    1    0    0    0    0    0    0    0   0 ...     0    0   0   \n",
      "372          2    6    0    2    1    4    0    3    4   0 ...     0    1   0   \n",
      "396          1    0    0    4    2    1    0    0    3   0 ...     0    2   0   \n",
      "402          0    1    0    0    0    2    0    2    0   0 ...     0    0   0   \n",
      "423          0    4    0    0    0    4    0    6    0   0 ...     0    0   0   \n",
      "592          1    4    0    4    0    1    0    2    0   0 ...     1    0   0   \n",
      "677          0    0    0    0    0    0    0    0    0   0 ...     1    0   0   \n",
      "...        ...  ...  ...  ...  ...  ...  ...  ...  ...  .. ...   ...  ...  ..   \n",
      "2148         1    2    0    1    0    0    0    1    0   0 ...     0    0   0   \n",
      "2268         1    1    0    0    0    1    0    1    0   0 ...     0    0   0   \n",
      "2675         0    0    0    0    0    0    0    0    0   0 ...     0    0   0   \n",
      "2976         0    0    0    0    0    0    0    0    0   0 ...     0    0   0   \n",
      "3103         0    2    0    0    1    0    0    0    0   0 ...     0    0   0   \n",
      "3411         0    0    0    0    0    0    0    0    0   0 ...     0    0   0   \n",
      "3868         0    0    0    0    1    0    0    0    0   0 ...     0    0   0   \n",
      "5271         0    1    0    0    0    0    0    0    0   0 ...     0    0   0   \n",
      "8951         0    0    0    0    0    0    0    0    0   0 ...     0    0   0   \n",
      "9045         0    0    0    0    0    0    0    0    0   0 ...     1    0   0   \n",
      "9208         0    0    0    0    0    0    0    0    0   0 ...     0    0   0   \n",
      "9836         0    0    0    0    0    0    0    0    0   0 ...     0    0   0   \n",
      "10887        0    0    0    0    0    0    0    0    0   0 ...     1    0   0   \n",
      "11814        0    0    0    0    0    0    0    0    0   0 ...     0    0   0   \n",
      "12951        0    0    0    0    0    0    0    0    0   0 ...     1    0   0   \n",
      "13446        0    0    0    0    0    0    0    0    0   0 ...     0    0   0   \n",
      "14171        0    0    0    0    0    0    0    0    0   0 ...     0    0   0   \n",
      "16528        0    0    0    0    0    0    0    0    0   0 ...     1    0   0   \n",
      "17231        0    0    0    0    0    0    0    0    0   0 ...     0    0   0   \n",
      "18662        0    0    0    0    0    0    0    0    0   0 ...     0    0   0   \n",
      "19082        0    0    0    0    0    0    0    0    0   0 ...     0    0   0   \n",
      "19924        0    0    0    0    0    0    0    0    0   0 ...     0    0   0   \n",
      "20257        0    0    0    0    0    0    0    0    0   0 ...     0    0   0   \n",
      "21262        0    0    0    0    0    0    0    0    0   0 ...     0    0   0   \n",
      "26788        0    0    0    0    0    0    0    0    0   0 ...     0    0   0   \n",
      "28257        1    1    0    0    0    0    0    0    1   0 ...     0    0   0   \n",
      "28478        0    0    0    0    0    0    0    0    0   0 ...     0    0   0   \n",
      "28505        0    0    0    0    0    0    0    0    0   0 ...     0    0   0   \n",
      "30888        0    0    0    0    0    0    0    0    0   0 ...     0    0   0   \n",
      "31275        0    0    0    0    0    0    0    0    0   0 ...     0    0   0   \n",
      "\n",
      "col_0       71  72  73   74   75   76   77  \n",
      "countries                                   \n",
      "0            1   0   1    4    2    3    1  \n",
      "1            0   0   0    0    0    0    0  \n",
      "2            0   0   0    0    1    0    0  \n",
      "3            0   0   0    0    0    0    0  \n",
      "6            2   0   1    0    0    0    0  \n",
      "9          824  46  17  314  413  279  100  \n",
      "12           5   0   0    2    3    3    2  \n",
      "14          81   3   2   22   32   10   10  \n",
      "16           1   0   2    3    0    0    0  \n",
      "18           1   0   0    0    0    0    0  \n",
      "19           2   0   0    0    0    0    0  \n",
      "21           0   0   0    0    0    0    0  \n",
      "26           0   0   0    0    0    0    0  \n",
      "50           0   0   0    0    0    0    0  \n",
      "52           5   0   0    1    0    0    0  \n",
      "56           0   0   0    0    0    0    0  \n",
      "61           0   0   3    0    1    1    0  \n",
      "118          5   1   0    6    8    0    1  \n",
      "129          5   1   0    1    4    1    0  \n",
      "136         12   2   1    4    4    2    2  \n",
      "147          7   0   0    2    1    1    0  \n",
      "187          3   0   0    0    0    0    0  \n",
      "191          1   0   0    0    0    0    0  \n",
      "370          1   0   0    1    0    0    0  \n",
      "372          5   0   0    2    0    0    0  \n",
      "396          0   0   0    3    1    1    1  \n",
      "402          0   0   0    0    0    0    0  \n",
      "423          2   0   0    1    0    1    0  \n",
      "592          1   0   0    1    0    0    0  \n",
      "677          0   0   0    0    0    0    0  \n",
      "...        ...  ..  ..  ...  ...  ...  ...  \n",
      "2148         0   0   0    0    0    0    0  \n",
      "2268         1   0   0    0    1    0    0  \n",
      "2675         0   0   0    0    0    0    0  \n",
      "2976         1   0   0    0    0    0    0  \n",
      "3103         0   0   0    0    0    1    0  \n",
      "3411         0   0   0    0    0    0    0  \n",
      "3868         1   0   0    1    0    0    0  \n",
      "5271         0   0   0    0    0    0    0  \n",
      "8951         1   0   0    0    0    0    0  \n",
      "9045         0   0   0    0    0    0    0  \n",
      "9208         0   0   0    0    0    0    0  \n",
      "9836         0   0   0    0    0    0    0  \n",
      "10887        0   0   0    0    0    0    0  \n",
      "11814        0   0   0    0    0    0    0  \n",
      "12951        0   0   0    0    0    0    0  \n",
      "13446        0   0   0    0    0    0    0  \n",
      "14171        0   0   0    0    0    0    0  \n",
      "16528        0   0   0    0    0    0    0  \n",
      "17231        0   0   0    0    0    0    0  \n",
      "18662        0   0   0    0    0    0    0  \n",
      "19082        0   0   0    0    0    0    0  \n",
      "19924        0   0   0    0    0    0    0  \n",
      "20257        0   0   0    0    0    0    0  \n",
      "21262        0   0   0    0    0    0    0  \n",
      "26788        0   0   0    0    0    0    0  \n",
      "28257        0   0   0    0    0    1    0  \n",
      "28478        0   0   0    0    0    0    0  \n",
      "28505        0   0   0    0    0    0    0  \n",
      "30888        0   0   0    0    0    0    0  \n",
      "31275        0   0   0    0    0    0    0  \n",
      "\n",
      "[78 rows x 78 columns]\n"
     ]
    }
   ],
   "source": [
    "# Using k-means\n",
    "\n",
    "# Calculate predicted values.\n",
    "y_pred = KMeans(n_clusters=78, random_state=42).fit_predict(X)\n",
    "\n",
    "# Plot the solution.\n",
    "plt.scatter(X[:, 0], X[:, 1], c=y_pred)\n",
    "plt.show()\n",
    "\n",
    "# Check the solution against the data.\n",
    "print('Comparing k-means clusters against the data:')\n",
    "print(pd.crosstab(y_cntry, y_pred))"
   ]
  },
  {
   "cell_type": "code",
   "execution_count": 89,
   "metadata": {
    "collapsed": true
   },
   "outputs": [],
   "source": [
    "# Clustering on countries did not produce results that were readable. "
   ]
  },
  {
   "cell_type": "markdown",
   "metadata": {},
   "source": [
    "# Analysis:\n",
    "\n",
    "### From the results in this notebook, adding the 40k and 25k times improved the ability for k-means to cluster based on gender. "
   ]
  }
 ],
 "metadata": {
  "kernelspec": {
   "display_name": "Python 3",
   "language": "python",
   "name": "python3"
  },
  "language_info": {
   "codemirror_mode": {
    "name": "ipython",
    "version": 3
   },
   "file_extension": ".py",
   "mimetype": "text/x-python",
   "name": "python",
   "nbconvert_exporter": "python",
   "pygments_lexer": "ipython3",
   "version": "3.6.3"
  }
 },
 "nbformat": 4,
 "nbformat_minor": 2
}

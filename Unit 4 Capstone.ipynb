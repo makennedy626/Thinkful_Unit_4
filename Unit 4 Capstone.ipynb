{
 "cells": [
  {
   "cell_type": "markdown",
   "metadata": {},
   "source": [
    "### For this project, a series of chapters from eleven different novels will be used. A combination of clustering, unsupervised feature generation, and classification models will be used to classify the texts by author."
   ]
  },
  {
   "cell_type": "code",
   "execution_count": 1,
   "metadata": {
    "collapsed": true
   },
   "outputs": [],
   "source": [
    "%matplotlib inline\n",
    "import numpy as np\n",
    "import pandas as pd\n",
    "import scipy\n",
    "import sklearn\n",
    "import spacy\n",
    "import matplotlib.pyplot as plt\n",
    "import seaborn as sns\n",
    "import re\n",
    "import nltk\n",
    "from nltk.corpus import gutenberg, stopwords\n",
    "from collections import Counter\n",
    "from sklearn.linear_model import LogisticRegression"
   ]
  },
  {
   "cell_type": "code",
   "execution_count": 2,
   "metadata": {},
   "outputs": [
    {
     "name": "stdout",
     "output_type": "stream",
     "text": [
      "['austen-emma.txt', 'austen-persuasion.txt', 'austen-sense.txt', 'bible-kjv.txt', 'blake-poems.txt', 'bryant-stories.txt', 'burgess-busterbrown.txt', 'carroll-alice.txt', 'chesterton-ball.txt', 'chesterton-brown.txt', 'chesterton-thursday.txt', 'edgeworth-parents.txt', 'melville-moby_dick.txt', 'milton-paradise.txt', 'shakespeare-caesar.txt', 'shakespeare-hamlet.txt', 'shakespeare-macbeth.txt', 'whitman-leaves.txt']\n"
     ]
    }
   ],
   "source": [
    "print(gutenberg.fileids())"
   ]
  },
  {
   "cell_type": "markdown",
   "metadata": {},
   "source": [
    "### The eleven novels listed below will be used for this project."
   ]
  },
  {
   "cell_type": "code",
   "execution_count": 3,
   "metadata": {
    "collapsed": true
   },
   "outputs": [],
   "source": [
    "# Load the text files\n",
    "emma = gutenberg.raw('austen-emma.txt')\n",
    "persuasion = gutenberg.raw('austen-persuasion.txt')\n",
    "sense = gutenberg.raw('austen-sense.txt')\n",
    "busterbrown = gutenberg.raw('burgess-busterbrown.txt')\n",
    "alice = gutenberg.raw('carroll-alice.txt')\n",
    "ball = gutenberg.raw('chesterton-ball.txt')\n",
    "brown = gutenberg.raw('chesterton-brown.txt')\n",
    "thursday = gutenberg.raw('chesterton-thursday.txt')\n",
    "parents = gutenberg.raw('edgeworth-parents.txt')\n",
    "moby_dick = gutenberg.raw('melville-moby_dick.txt')\n",
    "paradise = gutenberg.raw('milton-paradise.txt')"
   ]
  },
  {
   "cell_type": "markdown",
   "metadata": {},
   "source": [
    "### Cleaning the texts and taking the first chapters."
   ]
  },
  {
   "cell_type": "code",
   "execution_count": 4,
   "metadata": {
    "collapsed": true
   },
   "outputs": [],
   "source": [
    "# Utility function for standard text cleaning.\n",
    "def text_cleaner(text):\n",
    "    # Visual inspection identifies a form of punctuation spaCy does not\n",
    "    # recognize: the double dash '--'.  Better get rid of it now!\n",
    "    text = re.sub(r'--',' ',text)\n",
    "    text = re.sub(\"[\\[].*?[\\]]\", \"\", text)\n",
    "    text = ' '.join(text.split())\n",
    "    return text\n",
    "\n",
    "emma = text_cleaner(emma)\n",
    "persuasion = text_cleaner(persuasion)\n",
    "sense = text_cleaner(sense)\n",
    "busterbrown = text_cleaner(busterbrown)\n",
    "alice = text_cleaner(alice)\n",
    "ball = text_cleaner(ball)\n",
    "brown = text_cleaner(brown)\n",
    "thursday = text_cleaner(thursday)\n",
    "parents = text_cleaner(parents)\n",
    "moby_dick = text_cleaner(moby_dick)\n",
    "paradise = text_cleaner(paradise)\n",
    "\n",
    "emma = emma.split('CHAPTER')\n",
    "persuasion = persuasion.split('Chapter')\n",
    "sense = sense.split('CHAPTER')\n",
    "busterbrown = busterbrown.split('II')\n",
    "alice = alice.split('CHAPTER')\n",
    "ball = ball.split('II')\n",
    "brown = brown.split('CHAPTER')\n",
    "thursday = thursday.split('CHAPTER')\n",
    "parents = parents.split('CHAPTER')\n",
    "moby_dick = moby_dick.split('CHAPTER')\n",
    "paradise = paradise.split('Book')\n",
    "\n",
    "emma = emma[1]\n",
    "persuasion = persuasion[1]\n",
    "sense = sense[1]\n",
    "busterbrown = busterbrown[1]\n",
    "alice = alice[1]\n",
    "ball = ball[1]\n",
    "brown = ball[1]\n",
    "thursday = thursday[1]\n",
    "parents = parents[1]\n",
    "moby_dick = moby_dick[1]\n",
    "paradise = paradise[1]"
   ]
  },
  {
   "cell_type": "code",
   "execution_count": 5,
   "metadata": {
    "collapsed": true
   },
   "outputs": [],
   "source": [
    "# Checking to make sure the texts look correct:\n",
    "#print(emma)\n",
    "#print(persuasion)\n",
    "#print(sense)\n",
    "#print(bible[:1000])\n",
    "#print(poems)\n",
    "#print(stories)\n",
    "#print(busterbrown)\n",
    "#print(alice)\n",
    "#print(ball)\n",
    "#print(brown)\n",
    "#print(thursday)\n",
    "#print(parents)\n",
    "#print(moby_dick)\n",
    "#print(paradise)\n",
    "#print(caesar)\n",
    "#print(hamlet)\n",
    "#print(macbeth)\n",
    "#print(leaves)\n",
    "# The cleaner was successful for each of the texts."
   ]
  },
  {
   "cell_type": "code",
   "execution_count": 6,
   "metadata": {
    "collapsed": true
   },
   "outputs": [],
   "source": [
    "# Parse the cleaned novels. This can take a bit.\n",
    "nlp = spacy.load('en')\n",
    "emma_doc = nlp(emma)\n",
    "persuasion_doc = nlp(persuasion)\n",
    "sense_doc = nlp(sense)\n",
    "busterbrown_doc = nlp(busterbrown)\n",
    "alice_doc = nlp(alice)\n",
    "ball_doc = nlp(ball)\n",
    "brown_doc = nlp(brown)\n",
    "thursday_doc = nlp(thursday)\n",
    "parents_doc = nlp(parents)\n",
    "moby_dick_doc = nlp(moby_dick)\n",
    "paradise_doc = nlp(paradise)"
   ]
  },
  {
   "cell_type": "code",
   "execution_count": 7,
   "metadata": {},
   "outputs": [
    {
     "data": {
      "text/html": [
       "<div>\n",
       "<style>\n",
       "    .dataframe thead tr:only-child th {\n",
       "        text-align: right;\n",
       "    }\n",
       "\n",
       "    .dataframe thead th {\n",
       "        text-align: left;\n",
       "    }\n",
       "\n",
       "    .dataframe tbody tr th {\n",
       "        vertical-align: top;\n",
       "    }\n",
       "</style>\n",
       "<table border=\"1\" class=\"dataframe\">\n",
       "  <thead>\n",
       "    <tr style=\"text-align: right;\">\n",
       "      <th></th>\n",
       "      <th>0</th>\n",
       "      <th>1</th>\n",
       "    </tr>\n",
       "  </thead>\n",
       "  <tbody>\n",
       "    <tr>\n",
       "      <th>0</th>\n",
       "      <td>( , I, Emma, Woodhouse, ,, handsome, ,, clever...</td>\n",
       "      <td>Austen</td>\n",
       "    </tr>\n",
       "    <tr>\n",
       "      <th>1</th>\n",
       "      <td>(She, was, the, youngest, of, the, two, daught...</td>\n",
       "      <td>Austen</td>\n",
       "    </tr>\n",
       "    <tr>\n",
       "      <th>2</th>\n",
       "      <td>(Her, mother, had, died, too, long, ago, for, ...</td>\n",
       "      <td>Austen</td>\n",
       "    </tr>\n",
       "    <tr>\n",
       "      <th>3</th>\n",
       "      <td>(Sixteen, years, had, Miss, Taylor, been, in, ...</td>\n",
       "      <td>Austen</td>\n",
       "    </tr>\n",
       "    <tr>\n",
       "      <th>4</th>\n",
       "      <td>(Between, _, them, _, it, was, more, the, inti...</td>\n",
       "      <td>Austen</td>\n",
       "    </tr>\n",
       "  </tbody>\n",
       "</table>\n",
       "</div>"
      ],
      "text/plain": [
       "                                                   0       1\n",
       "0  ( , I, Emma, Woodhouse, ,, handsome, ,, clever...  Austen\n",
       "1  (She, was, the, youngest, of, the, two, daught...  Austen\n",
       "2  (Her, mother, had, died, too, long, ago, for, ...  Austen\n",
       "3  (Sixteen, years, had, Miss, Taylor, been, in, ...  Austen\n",
       "4  (Between, _, them, _, it, was, more, the, inti...  Austen"
      ]
     },
     "execution_count": 7,
     "metadata": {},
     "output_type": "execute_result"
    }
   ],
   "source": [
    "# Group into sentences.\n",
    "emma_sents = [[sent, \"Austen\"] for sent in emma_doc.sents]\n",
    "persuasion_sents = [[sent, \"Austen\"] for sent in persuasion_doc.sents]\n",
    "sense_sents = [[sent, \"Austen\"] for sent in sense_doc.sents]\n",
    "busterbrown_sents = [[sent, \"Burgess\"] for sent in busterbrown_doc.sents]\n",
    "alice_sents = [[sent, \"Carroll\"] for sent in alice_doc.sents]\n",
    "ball_sents = [[sent, \"Chesterton\"] for sent in ball_doc.sents]\n",
    "brown_sents = [[sent, \"Chesterton\"] for sent in brown_doc.sents]\n",
    "thursday_sents = [[sent, \"Chesterton\"] for sent in thursday_doc.sents]\n",
    "parents_sents = [[sent, \"Edgeworth\"] for sent in parents_doc.sents]\n",
    "moby_dick_sents = [[sent, \"Melville\"] for sent in moby_dick_doc.sents]\n",
    "paradise_sents = [[sent, \"Milton\"] for sent in paradise_doc.sents]\n",
    "\n",
    "# Combine the sentences into one data frame.\n",
    "sentences = pd.DataFrame(emma_sents + persuasion_sents + sense_sents +\n",
    "                         busterbrown_sents + alice_sents + ball_sents + \n",
    "                         brown_sents + thursday_sents + parents_sents + \n",
    "                         moby_dick_sents + paradise_sents)\n",
    "sentences.head()"
   ]
  },
  {
   "cell_type": "markdown",
   "metadata": {},
   "source": [
    "### The first technique is to create a series of clusters. Try several techniques and pick the one you think best represents your data. Make sure there is a narrative and reasoning around why you have chosen the given clusters. Are authors consistently grouped into the same cluster?"
   ]
  },
  {
   "cell_type": "code",
   "execution_count": 8,
   "metadata": {
    "collapsed": true
   },
   "outputs": [],
   "source": [
    "################################################################################\n",
    "########## NEED TO DO BOW BEFORE CLUSTERING ####################################\n",
    "################################################################################\n",
    "\n",
    "# Utility function to create a list of the 2000 most common words.\n",
    "def bag_of_words(text):\n",
    "    \n",
    "    # Filter out punctuation and stop words.\n",
    "    allwords = [token.lemma_\n",
    "                for token in text\n",
    "                if not token.is_punct\n",
    "                and not token.is_stop]\n",
    "    \n",
    "    # Return the most common words.\n",
    "    return [item[0] for item in Counter(allwords).most_common(2000)]\n",
    "    \n",
    "\n",
    "# Creates a data frame with features for each word in our common word set.\n",
    "# Each value is the count of the times the word appears in each sentence.\n",
    "def bow_features(sentences, common_words):\n",
    "    \n",
    "    # Scaffold the data frame and initialize counts to zero.\n",
    "    df = pd.DataFrame(columns=common_words)\n",
    "    df['text_sentence'] = sentences[0]\n",
    "    df['text_source'] = sentences[1]\n",
    "    df.loc[:, common_words] = 0\n",
    "    \n",
    "    # Process each row, counting the occurrence of words in each sentence.\n",
    "    for i, sentence in enumerate(df['text_sentence']):\n",
    "        \n",
    "        # Convert the sentence to lemmas, then filter out punctuation,\n",
    "        # stop words, and uncommon words.\n",
    "        words = [token.lemma_\n",
    "                 for token in sentence\n",
    "                 if (\n",
    "                     not token.is_punct\n",
    "                     and not token.is_stop\n",
    "                     and token.lemma_ in common_words\n",
    "                 )]\n",
    "        \n",
    "        # Populate the row with word counts.\n",
    "        for word in words:\n",
    "            df.loc[i, word] += 1\n",
    "        \n",
    "        # This counter is just to make sure the kernel didn't hang.\n",
    "        if i % 500 == 0:\n",
    "            print(\"Processing row {}\".format(i))\n",
    "            \n",
    "    return df\n",
    "\n",
    "# Set up the bags.\n",
    "emmawords = bag_of_words(emma_doc)\n",
    "persuasionwords = bag_of_words(persuasion_doc)\n",
    "sensewords = bag_of_words(sense_doc)\n",
    "busterbrownwords = bag_of_words(busterbrown_doc)\n",
    "alicewords = bag_of_words(alice_doc)\n",
    "ballwords = bag_of_words(ball_doc)\n",
    "brownwords = bag_of_words(brown_doc)\n",
    "thursdaywords = bag_of_words(thursday_doc)\n",
    "parentswords = bag_of_words(parents_doc)\n",
    "moby_dickwords = bag_of_words(moby_dick_doc)\n",
    "paradisewords = bag_of_words(paradise_doc)\n",
    "\n",
    "# Combine bags to create a set of unique words.\n",
    "common_words = set(emmawords + persuasionwords + sensewords + busterbrownwords\n",
    "                   + alicewords + ballwords + brownwords + thursdaywords + \n",
    "                   parentswords + moby_dickwords + paradisewords)"
   ]
  },
  {
   "cell_type": "code",
   "execution_count": 9,
   "metadata": {
    "scrolled": false
   },
   "outputs": [
    {
     "name": "stdout",
     "output_type": "stream",
     "text": [
      "Processing row 0\n",
      "Processing row 500\n",
      "Processing row 1000\n"
     ]
    },
    {
     "data": {
      "text/html": [
       "<div>\n",
       "<style>\n",
       "    .dataframe thead tr:only-child th {\n",
       "        text-align: right;\n",
       "    }\n",
       "\n",
       "    .dataframe thead th {\n",
       "        text-align: left;\n",
       "    }\n",
       "\n",
       "    .dataframe tbody tr th {\n",
       "        vertical-align: top;\n",
       "    }\n",
       "</style>\n",
       "<table border=\"1\" class=\"dataframe\">\n",
       "  <thead>\n",
       "    <tr style=\"text-align: right;\">\n",
       "      <th></th>\n",
       "      <th>poker</th>\n",
       "      <th>chained</th>\n",
       "      <th>transgress</th>\n",
       "      <th>suppression</th>\n",
       "      <th>ii</th>\n",
       "      <th>rant</th>\n",
       "      <th>agency</th>\n",
       "      <th>o'clock</th>\n",
       "      <th>corn</th>\n",
       "      <th>blue</th>\n",
       "      <th>...</th>\n",
       "      <th>match</th>\n",
       "      <th>reproduce</th>\n",
       "      <th>surge</th>\n",
       "      <th>erst</th>\n",
       "      <th>number</th>\n",
       "      <th>modern</th>\n",
       "      <th>shot</th>\n",
       "      <th>stolidly</th>\n",
       "      <th>text_sentence</th>\n",
       "      <th>text_source</th>\n",
       "    </tr>\n",
       "  </thead>\n",
       "  <tbody>\n",
       "    <tr>\n",
       "      <th>0</th>\n",
       "      <td>0</td>\n",
       "      <td>0</td>\n",
       "      <td>0</td>\n",
       "      <td>0</td>\n",
       "      <td>0</td>\n",
       "      <td>0</td>\n",
       "      <td>0</td>\n",
       "      <td>0</td>\n",
       "      <td>0</td>\n",
       "      <td>0</td>\n",
       "      <td>...</td>\n",
       "      <td>0</td>\n",
       "      <td>0</td>\n",
       "      <td>0</td>\n",
       "      <td>0</td>\n",
       "      <td>0</td>\n",
       "      <td>0</td>\n",
       "      <td>0</td>\n",
       "      <td>0</td>\n",
       "      <td>( , I, Emma, Woodhouse, ,, handsome, ,, clever...</td>\n",
       "      <td>Austen</td>\n",
       "    </tr>\n",
       "    <tr>\n",
       "      <th>1</th>\n",
       "      <td>0</td>\n",
       "      <td>0</td>\n",
       "      <td>0</td>\n",
       "      <td>0</td>\n",
       "      <td>0</td>\n",
       "      <td>0</td>\n",
       "      <td>0</td>\n",
       "      <td>0</td>\n",
       "      <td>0</td>\n",
       "      <td>0</td>\n",
       "      <td>...</td>\n",
       "      <td>0</td>\n",
       "      <td>0</td>\n",
       "      <td>0</td>\n",
       "      <td>0</td>\n",
       "      <td>0</td>\n",
       "      <td>0</td>\n",
       "      <td>0</td>\n",
       "      <td>0</td>\n",
       "      <td>(She, was, the, youngest, of, the, two, daught...</td>\n",
       "      <td>Austen</td>\n",
       "    </tr>\n",
       "    <tr>\n",
       "      <th>2</th>\n",
       "      <td>0</td>\n",
       "      <td>0</td>\n",
       "      <td>0</td>\n",
       "      <td>0</td>\n",
       "      <td>0</td>\n",
       "      <td>0</td>\n",
       "      <td>0</td>\n",
       "      <td>0</td>\n",
       "      <td>0</td>\n",
       "      <td>0</td>\n",
       "      <td>...</td>\n",
       "      <td>0</td>\n",
       "      <td>0</td>\n",
       "      <td>0</td>\n",
       "      <td>0</td>\n",
       "      <td>0</td>\n",
       "      <td>0</td>\n",
       "      <td>0</td>\n",
       "      <td>0</td>\n",
       "      <td>(Her, mother, had, died, too, long, ago, for, ...</td>\n",
       "      <td>Austen</td>\n",
       "    </tr>\n",
       "    <tr>\n",
       "      <th>3</th>\n",
       "      <td>0</td>\n",
       "      <td>0</td>\n",
       "      <td>0</td>\n",
       "      <td>0</td>\n",
       "      <td>0</td>\n",
       "      <td>0</td>\n",
       "      <td>0</td>\n",
       "      <td>0</td>\n",
       "      <td>0</td>\n",
       "      <td>0</td>\n",
       "      <td>...</td>\n",
       "      <td>0</td>\n",
       "      <td>0</td>\n",
       "      <td>0</td>\n",
       "      <td>0</td>\n",
       "      <td>0</td>\n",
       "      <td>0</td>\n",
       "      <td>0</td>\n",
       "      <td>0</td>\n",
       "      <td>(Sixteen, years, had, Miss, Taylor, been, in, ...</td>\n",
       "      <td>Austen</td>\n",
       "    </tr>\n",
       "    <tr>\n",
       "      <th>4</th>\n",
       "      <td>0</td>\n",
       "      <td>0</td>\n",
       "      <td>0</td>\n",
       "      <td>0</td>\n",
       "      <td>0</td>\n",
       "      <td>0</td>\n",
       "      <td>0</td>\n",
       "      <td>0</td>\n",
       "      <td>0</td>\n",
       "      <td>0</td>\n",
       "      <td>...</td>\n",
       "      <td>0</td>\n",
       "      <td>0</td>\n",
       "      <td>0</td>\n",
       "      <td>0</td>\n",
       "      <td>0</td>\n",
       "      <td>0</td>\n",
       "      <td>0</td>\n",
       "      <td>0</td>\n",
       "      <td>(Between, _, them, _, it, was, more, the, inti...</td>\n",
       "      <td>Austen</td>\n",
       "    </tr>\n",
       "  </tbody>\n",
       "</table>\n",
       "<p>5 rows × 3639 columns</p>\n",
       "</div>"
      ],
      "text/plain": [
       "  poker chained transgress suppression ii rant agency o'clock corn blue  \\\n",
       "0     0       0          0           0  0    0      0       0    0    0   \n",
       "1     0       0          0           0  0    0      0       0    0    0   \n",
       "2     0       0          0           0  0    0      0       0    0    0   \n",
       "3     0       0          0           0  0    0      0       0    0    0   \n",
       "4     0       0          0           0  0    0      0       0    0    0   \n",
       "\n",
       "      ...     match reproduce surge erst number modern shot stolidly  \\\n",
       "0     ...         0         0     0    0      0      0    0        0   \n",
       "1     ...         0         0     0    0      0      0    0        0   \n",
       "2     ...         0         0     0    0      0      0    0        0   \n",
       "3     ...         0         0     0    0      0      0    0        0   \n",
       "4     ...         0         0     0    0      0      0    0        0   \n",
       "\n",
       "                                       text_sentence text_source  \n",
       "0  ( , I, Emma, Woodhouse, ,, handsome, ,, clever...      Austen  \n",
       "1  (She, was, the, youngest, of, the, two, daught...      Austen  \n",
       "2  (Her, mother, had, died, too, long, ago, for, ...      Austen  \n",
       "3  (Sixteen, years, had, Miss, Taylor, been, in, ...      Austen  \n",
       "4  (Between, _, them, _, it, was, more, the, inti...      Austen  \n",
       "\n",
       "[5 rows x 3639 columns]"
      ]
     },
     "execution_count": 9,
     "metadata": {},
     "output_type": "execute_result"
    }
   ],
   "source": [
    "word_counts = bow_features(sentences, common_words)\n",
    "word_counts.head()"
   ]
  },
  {
   "cell_type": "code",
   "execution_count": 10,
   "metadata": {
    "collapsed": true
   },
   "outputs": [],
   "source": [
    "Y = word_counts['text_source']\n",
    "X = np.array(word_counts.drop(['text_sentence','text_source'], 1))"
   ]
  },
  {
   "cell_type": "code",
   "execution_count": 11,
   "metadata": {},
   "outputs": [
    {
     "data": {
      "image/png": "[encoded data removed]",
      "text/plain": [
       "<matplotlib.figure.Figure at 0x1d39bda0358>"
      ]
     },
     "metadata": {},
     "output_type": "display_data"
    },
    {
     "name": "stdout",
     "output_type": "stream",
     "text": [
      "Comparing k-means clusters against the data:\n",
      "text_source  Austen  Burgess  Carroll  Chesterton  Edgeworth  Melville  Milton\n",
      "row_0                                                                         \n",
      "0                38        3        1          18         58         1       4\n",
      "1                12        0        3           1          8         0       0\n",
      "2                 1        0        0           0          0         0       0\n",
      "3                10        3       10          58         91         0       1\n",
      "4                 0        0        0           0          0         0       1\n",
      "5                 2        2        3          15         14         0       0\n",
      "6                 0        0        0           0          0         0       1\n",
      "7                 0        0        0           0          0         0       1\n",
      "8               221       34       52         355        311         6      61\n",
      "9                 0        0        0           0          0         0       1\n"
     ]
    }
   ],
   "source": [
    "# Using k-means to cluster together authors\n",
    "from sklearn.cluster import KMeans\n",
    "\n",
    "# Calculate predicted values.\n",
    "y_pred = KMeans(n_clusters=10, random_state=42).fit_predict(X)\n",
    "\n",
    "# Plot the solution.\n",
    "plt.scatter(X[:, 0], X[:, 1], c=y_pred)\n",
    "plt.show()\n",
    "\n",
    "# Check the solution against the data.\n",
    "print('Comparing k-means clusters against the data:')\n",
    "print(pd.crosstab(y_pred, Y))"
   ]
  },
  {
   "cell_type": "code",
   "execution_count": 12,
   "metadata": {
    "scrolled": false
   },
   "outputs": [
    {
     "name": "stdout",
     "output_type": "stream",
     "text": [
      "Done\n",
      "Estimated number of clusters: 242\n"
     ]
    },
    {
     "data": {
      "image/png": "[encoded data removed]",
      "text/plain": [
       "<matplotlib.figure.Figure at 0x1d3959ea518>"
      ]
     },
     "metadata": {},
     "output_type": "display_data"
    },
    {
     "name": "stdout",
     "output_type": "stream",
     "text": [
      "Comparing the assigned categories to the ones in the data:\n",
      "col_0        0    1    2    3    4    5    6    7    8    9   ...   232  233  \\\n",
      "text_source                                                   ...              \n",
      "Austen         1    1    1   13    1    1    1    1    1    1 ...     0    0   \n",
      "Burgess        0    0    0    0    0    0    0    0    0    0 ...     0    0   \n",
      "Carroll        0    0    0    0    0    0    0    0    0    0 ...     0    0   \n",
      "Chesterton     0    0    0    0    0    0    0    0    0    0 ...     0    0   \n",
      "Edgeworth      0    0    0    1    0    0    0    0    0    0 ...     0    0   \n",
      "Melville       0    0    0    0    0    0    0    0    0    0 ...     0    0   \n",
      "Milton         0    0    0    0    0    0    0    0    0    0 ...     1    1   \n",
      "\n",
      "col_0        234  235  236  237  238  239  240  241  \n",
      "text_source                                          \n",
      "Austen         0    0    0    0    0    0    0    0  \n",
      "Burgess        0    0    0    0    0    0    0    0  \n",
      "Carroll        0    0    0    0    0    0    0    0  \n",
      "Chesterton     0    0    0    0    0    0    0    0  \n",
      "Edgeworth      0    0    0    0    0    0    0    0  \n",
      "Melville       0    0    0    0    0    0    0    0  \n",
      "Milton         1    1    1    1    1    1    1    1  \n",
      "\n",
      "[7 rows x 242 columns]\n"
     ]
    }
   ],
   "source": [
    "## Using AffinityPropogation for clustering\n",
    "from sklearn.cluster import AffinityPropagation\n",
    "from sklearn import metrics\n",
    " \n",
    "# Declare the model and fit it in one statement.\n",
    "# Note that you can provide arguments to the model, but we didn't.\n",
    "af = AffinityPropagation().fit(X)\n",
    "print('Done')\n",
    " \n",
    "# Pull the number of clusters and cluster assignments for each data point.\n",
    "cluster_centers_indices = af.cluster_centers_indices_\n",
    "n_clusters_ = len(cluster_centers_indices)\n",
    "labels = af.labels_\n",
    " \n",
    "print('Estimated number of clusters: {}'.format(n_clusters_))\n",
    "\n",
    "plt.scatter(X[:, 0], X[:, 1], c=labels)\n",
    "plt.show()\n",
    "\n",
    "print('Comparing the assigned categories to the ones in the data:')\n",
    "print(pd.crosstab(Y,labels))"
   ]
  },
  {
   "cell_type": "code",
   "execution_count": 13,
   "metadata": {},
   "outputs": [
    {
     "name": "stdout",
     "output_type": "stream",
     "text": [
      "Number of estimated clusters: 11\n"
     ]
    }
   ],
   "source": [
    "from sklearn.cluster import MeanShift, estimate_bandwidth\n",
    "\n",
    "# Here we set the bandwidth. This function automatically derives a bandwidth\n",
    "# number based on an inspection of the distances among points in the data.\n",
    "bandwidth = estimate_bandwidth(X, quantile=0.2, n_samples=500)\n",
    "\n",
    "# Declare and fit the model.\n",
    "ms = MeanShift(bandwidth=bandwidth, bin_seeding=True)\n",
    "ms.fit(X)\n",
    "\n",
    "# Extract cluster assignments for each data point.\n",
    "labels = ms.labels_\n",
    "\n",
    "# Coordinates of the cluster centers.\n",
    "cluster_centers = ms.cluster_centers_\n",
    "\n",
    "# Count our clusters.\n",
    "n_clusters_ = len(np.unique(labels))\n",
    "\n",
    "print(\"Number of estimated clusters: {}\".format(n_clusters_))"
   ]
  },
  {
   "cell_type": "code",
   "execution_count": 14,
   "metadata": {
    "scrolled": true
   },
   "outputs": [
    {
     "data": {
      "image/png": "[encoded data removed]",
      "text/plain": [
       "<matplotlib.figure.Figure at 0x1d3cf38e780>"
      ]
     },
     "metadata": {},
     "output_type": "display_data"
    },
    {
     "name": "stdout",
     "output_type": "stream",
     "text": [
      "Comparing the assigned categories to the ones in the data:\n",
      "col_0         0   1   2   3   4   5   6   7   8   9   10\n",
      "text_source                                             \n",
      "Austen       283   1   0   0   0   0   0   0   0   0   0\n",
      "Burgess       42   0   0   0   0   0   0   0   0   0   0\n",
      "Carroll       69   0   0   0   0   0   0   0   0   0   0\n",
      "Chesterton   440   1   1   1   1   1   1   1   0   0   0\n",
      "Edgeworth    478   0   0   0   0   0   0   0   1   1   2\n",
      "Melville       7   0   0   0   0   0   0   0   0   0   0\n",
      "Milton        70   0   0   0   0   0   0   0   0   0   0\n"
     ]
    }
   ],
   "source": [
    "plt.scatter(X[:, 0], X[:, 1], c=labels)\n",
    "plt.show()\n",
    "\n",
    "print('Comparing the assigned categories to the ones in the data:')\n",
    "print(pd.crosstab(Y,labels))"
   ]
  },
  {
   "cell_type": "markdown",
   "metadata": {},
   "source": [
    "### The selected clustering technique will be K-Means due to its greater distribution of authors across the clusters in comparison to Mean Shift."
   ]
  },
  {
   "cell_type": "markdown",
   "metadata": {},
   "source": [
    "### Next, perform some unsupervised feature generation and selection using the techniques covered in this unit and elsewhere in the course. "
   ]
  },
  {
   "cell_type": "code",
   "execution_count": 15,
   "metadata": {},
   "outputs": [
    {
     "name": "stdout",
     "output_type": "stream",
     "text": [
      "[' I Emma Woodhouse, handsome, clever, and rich, with a comfortable home and happy disposition, seemed to unite some of the best blessings of existence; and had lived nearly twenty-one years in the world with very little to distress or vex her.', \"She was the youngest of the two daughters of a most affectionate, indulgent father; and had, in consequence of her sister's marriage, been mistress of his house from a very early period.\", 'Her mother had died too long ago for her to have more than an indistinct remembrance of her caresses; and her place had been supplied by an excellent woman as governess, who had fallen little short of a mother in affection.', \"Sixteen years had Miss Taylor been in Mr. Woodhouse's family, less as a governess than a friend, very fond of both daughters, but particularly of Emma.\"]\n"
     ]
    }
   ],
   "source": [
    "sentences_list=[]\n",
    "for index, row in sentences.iterrows():\n",
    "    sen = str(row[0])\n",
    "    sentences_list.append(sen)\n",
    "\n",
    "print(sentences_list[0:4])"
   ]
  },
  {
   "cell_type": "code",
   "execution_count": 16,
   "metadata": {},
   "outputs": [
    {
     "name": "stdout",
     "output_type": "stream",
     "text": [
      "Number of features: 1862\n"
     ]
    }
   ],
   "source": [
    "# Using tf-idf\n",
    "\n",
    "from sklearn.feature_extraction.text import TfidfVectorizer\n",
    "\n",
    "vectorizer = TfidfVectorizer(max_df=0.5, # drop words that occur in more than half the paragraphs\n",
    "                             min_df=2, # only use words that appear at least twice\n",
    "                             stop_words='english', \n",
    "                             lowercase=True, #convert everything to lower case (since Alice in Wonderland has the HABIT of CAPITALIZING WORDS for EMPHASIS)\n",
    "                             use_idf=True,#we definitely want to use inverse document frequencies in our weighting\n",
    "                             norm=u'l2', #Applies a correction factor so that longer paragraphs and shorter paragraphs get treated equally\n",
    "                             smooth_idf=True #Adds 1 to all document frequencies, as if an extra document existed that used every word once.  Prevents divide-by-zero errors\n",
    "                            )\n",
    "\n",
    "\n",
    "#Applying the vectorizer\n",
    "sentences_tfidf=vectorizer.fit_transform(sentences_list)\n",
    "print(\"Number of features: %d\" % sentences_tfidf.get_shape()[1])"
   ]
  },
  {
   "cell_type": "markdown",
   "metadata": {},
   "source": [
    "### Using those features then build models to attempt to classify your texts by author. Try different permutations of unsupervised and supervised techniques to see which combinations have the best performance."
   ]
  },
  {
   "cell_type": "code",
   "execution_count": 17,
   "metadata": {
    "collapsed": true
   },
   "outputs": [],
   "source": [
    "################################################################################\n",
    "################ RESERVE 25% OF YOUR CORPUS AS A TEST SET ######################\n",
    "################################################################################\n",
    "\n",
    "from sklearn.model_selection import train_test_split\n",
    "\n",
    "Y = sentences[1]\n",
    "X = sentences[0]\n",
    "\n",
    "X_train, X_test, y_train, y_test = train_test_split(X, \n",
    "                                                    Y,\n",
    "                                                    test_size=0.25,\n",
    "                                                    random_state=0)"
   ]
  },
  {
   "cell_type": "code",
   "execution_count": 18,
   "metadata": {},
   "outputs": [
    {
     "name": "stdout",
     "output_type": "stream",
     "text": [
      "1050\n",
      "Original sentence: It was Miss Taylor's loss which first brought grief.\n",
      "Tf_idf vector: {'laid': 0.46150794291526914, 'arthur': 0.32160003759001582, 'open': 0.3934459360056064, 'sir': 0.26990292600679988, 'sure': 0.34381918717179061, 'character': 0.41487197447351803, 'real': 0.40694735746878985}\n"
     ]
    }
   ],
   "source": [
    "#splitting into training and test sets using the sentences_tfidf data\n",
    "X_train_tfidf, X_test_tfidf= train_test_split(sentences_tfidf, test_size=0.25, random_state=0)\n",
    "\n",
    "#Reshapes the vectorizer output into something people can read\n",
    "X_train_tfidf_csr = X_train_tfidf.tocsr()\n",
    "\n",
    "#number of paragraphs\n",
    "n = X_train_tfidf_csr.shape[0]\n",
    "print(n)\n",
    "#A list of dictionaries, one per paragraph\n",
    "tfidf_bypara = [{} for _ in range(0,n)]\n",
    "#List of features\n",
    "terms = vectorizer.get_feature_names()\n",
    "#for each paragraph, lists the feature words and their tf-idf scores\n",
    "for i, j in zip(*X_train_tfidf_csr.nonzero()):\n",
    "    tfidf_bypara[i][terms[j]] = X_train_tfidf_csr[i, j]\n",
    "\n",
    "#Keep in mind that the log base 2 of 1 is 0, so a tf-idf score of 0 indicates that the word was present once in that sentence.\n",
    "print('Original sentence:', X_train[10])\n",
    "print('Tf_idf vector:', tfidf_bypara[10])"
   ]
  },
  {
   "cell_type": "code",
   "execution_count": 19,
   "metadata": {},
   "outputs": [
    {
     "name": "stdout",
     "output_type": "stream",
     "text": [
      "Percent variance captured by all components: 40.7421644958\n",
      "Component 0:\n",
      "0\n",
      "(\", How, 's, this, ,, Susan, ?, \", said, he, .)                                                                                                                                                                                              0.687411\n",
      "(The, socialists, said, he, was, cursing, priests, when, he, should, be, cursing, capitalists, .)                                                                                                                                            0.663006\n",
      "(she, said, aloud, ., ')                                                                                                                                                                                                                     0.632068\n",
      "(\", Now, I, have, him, ,, \", said, the, cunning, tempter, to, himself, ., \")                                                                                                                                                                 0.619868\n",
      "(She, said, that, Susan, never, did, too, little, ,, or, too, much, .)                                                                                                                                                                       0.618559\n",
      "(\", Some, of, them, are, wrong, ,, and, I, 've, written, them, out, again, ,, \", said, Susan, .)                                                                                                                                             0.562174\n",
      "(She, always, shows, us, where, the, nicest, flowers, are, to, be, found, in, the, lanes, and, meadows, ,, \", said, they, ., \")                                                                                                              0.550405\n",
      "(\", There, 's, our, purse, ,, \", said, they, ;, \", do, what, you, please, with, it, .)                                                                                                                                                       0.539259\n",
      "(I, _, must, taste, it, ,, \", said, Bab, ,, taking, the, basin, up, greedily, ., \", Wo, n't, you, take, a, spoon, ?, \", said, Susan, ,, trembling, at, the, large, mouthfuls, which, Barbara, sucked, up, with, a, terrible, noise, ., \")    0.538596\n",
      "(\", My, dear, sir, ,, \", said, the, attorney, ,, taking, him, by, the, button, ,, \", you, have, no, scruple, of, stirring, in, this, business, ?, \", \", A, little, ,, \", said, Sir, Arthur, .)                                               0.536526\n",
      "Name: 0, dtype: float64\n",
      "Component 1:\n",
      "0\n",
      "(\", What, can, that, be, ,, sir, ?, \")                                                                                                                           0.796120\n",
      "(Worse, ,, sir, .)                                                                                                                                               0.759494\n",
      "(\", TO, MYSELF, ,, sir, ,, if, you, please, ,, \", replied, Sir, Arthur, .)                                                                                       0.757028\n",
      "(Sir, Arthur, Somers, ,, the, NEW, MAN, ,, did, not, suit, him, ,, and, he, began, to, be, rather, apprehensive, that, he, should, not, suit, Sir, Arthur, .)    0.643735\n",
      "(Sir, Arthur, was, also, a, man, of, wit, and, eloquence, ,, yet, of, plain, dealing, and, humanity, .)                                                          0.634496\n",
      "(Sir, Walter, has, resented, it, .)                                                                                                                              0.633446\n",
      "(No, you, have, said, enough, ,, \", replied, Sir, Arthur, .)                                                                                                     0.627447\n",
      "(Neither, in, law, nor, equity, ,, \", repeated, Sir, Arthur, ,, with, apparent, incredulity, ., \")                                                               0.618927\n",
      "(\", Sir, Arthur, stood, in, silence, .)                                                                                                                          0.615465\n",
      "(He, recollected, that, he, had, laid, himself, open, before, he, was, sure, of, Sir, Arthur, 's, REAL, character, .)                                            0.606299\n",
      "Name: 1, dtype: float64\n",
      "Component 2:\n",
      "0\n",
      "(she, said, aloud, ., ')                                                                                                                                                                       0.602983\n",
      "(The, socialists, said, he, was, cursing, priests, when, he, should, be, cursing, capitalists, .)                                                                                              0.601774\n",
      "(\", Now, I, have, him, ,, \", said, the, cunning, tempter, to, himself, ., \")                                                                                                                   0.582711\n",
      "(She, always, shows, us, where, the, nicest, flowers, are, to, be, found, in, the, lanes, and, meadows, ,, \", said, they, ., \")                                                                0.499848\n",
      "(\", There, 's, our, purse, ,, \", said, they, ;, \", do, what, you, please, with, it, .)                                                                                                         0.498210\n",
      "(\", In, what, I, said, ?, \", \", You, said, I, was, not, serious, about, being, an, anarchist, ., \")                                                                                            0.469189\n",
      "(\", How, 's, this, ,, Susan, ?, \", said, he, .)                                                                                                                                                0.408519\n",
      "(said, Barbara, .)                                                                                                                                                                             0.388716\n",
      "(\", You, have, really, said, enough, to, excite, my, curiosity, ,, \", said, her, mistress, ;, \", pray, send, for, her, immediately, ;, we, can, see, her, before, we, go, out, to, walk, .)    0.386108\n",
      "(\", I, ?, \", said, the, farmer, ,, \", God, forbid, !)                                                                                                                                          0.344525\n",
      "Name: 2, dtype: float64\n",
      "Component 3:\n",
      "0\n",
      "(She, COULD, NOT, SAY, AMEN, .)                                                                                                                                                                                                                     0.542120\n",
      "(When, you, say, ', thank, you, ', for, the, salt, ,, do, you, mean, what, you, say, ?)                                                                                                                                                             0.512136\n",
      "(Give, me, Bradshaw, ,, I, say, !, \")                                                                                                                                                                                                               0.502290\n",
      "(When, you, say, ', the, world, is, round, ,, ', do, you, mean, what, you, say, ?)                                                                                                                                                                  0.487409\n",
      "(Then, he, said, ,, \", May, I, say, a, word, ,, your, worship, ?, \")                                                                                                                                                                                0.479863\n",
      "(We, always, say, what, we, like, to, one, another, ., \")                                                                                                                                                                                           0.463451\n",
      "(You, say, you, are, a, poet, of, law, ;, I, say, you, are, a, contradiction, in, terms, .)                                                                                                                                                         0.460140\n",
      "(Do, you, mean, what, you, say, now, ?, \", Syme, smiled, .)                                                                                                                                                                                         0.447269\n",
      "(He, says, he, will, challenge, me, to, a, duel, ;, and, I, can, not, say, anything, stronger, about, his, mental, state, than, to, say, that, I, think, that, it, is, highly, probable, that, he, will, .)                                         0.447242\n",
      "(With, surprise, ,, but, with, a, curious, pleasure, ,, he, found, Rosamond, Gregory, still, in, his, company, ., \", Mr., Syme, ,, \", she, said, ,, \", do, the, people, who, talk, like, you, and, my, brother, often, mean, what, they, say, ?)    0.416754\n"
     ]
    },
    {
     "name": "stdout",
     "output_type": "stream",
     "text": [
      "Name: 3, dtype: float64\n",
      "Component 4:\n",
      "0\n",
      "(And, what, did, you, say, ?)                                                                                                                                         0.492818\n",
      "(She, COULD, NOT, SAY, AMEN, .)                                                                                                                                       0.445181\n",
      "(Give, me, Bradshaw, ,, I, say, !, \")                                                                                                                                 0.411628\n",
      "(When, you, say, ', thank, you, ', for, the, salt, ,, do, you, mean, what, you, say, ?)                                                                               0.400688\n",
      "(\", Stay, ,, oh, stay, !, \", cried, Susan, ,, catching, the, skirt, of, his, coat, with, an, eager, ,, trembling, hand, ;, \", a, whole, week, ,, did, you, say, ?)    0.382325\n",
      "(When, you, say, ', the, world, is, round, ,, ', do, you, mean, what, you, say, ?)                                                                                    0.372349\n",
      "(You, say, you, are, a, poet, of, law, ;, I, say, you, are, a, contradiction, in, terms, .)                                                                           0.366721\n",
      "(\", Nothing, can, be, done, without, Susan, !)                                                                                                                        0.363393\n",
      "(Susan, retired, disconsolate, .)                                                                                                                                     0.346761\n",
      "(Susan, closed, the, curtains, ,, and, was, silent, .)                                                                                                                0.339409\n",
      "Name: 4, dtype: float64\n"
     ]
    }
   ],
   "source": [
    "from sklearn.decomposition import TruncatedSVD\n",
    "from sklearn.pipeline import make_pipeline\n",
    "from sklearn.preprocessing import Normalizer\n",
    "\n",
    "#Our SVD data reducer.\n",
    "svd= TruncatedSVD(130)\n",
    "lsa = make_pipeline(svd, Normalizer(copy=False))\n",
    "# Run SVD on the training data, then project the training data.\n",
    "X_train_lsa = lsa.fit_transform(X_train_tfidf)\n",
    "\n",
    "variance_explained=svd.explained_variance_ratio_\n",
    "total_variance = variance_explained.sum()\n",
    "print(\"Percent variance captured by all components:\",total_variance*100)\n",
    "\n",
    "#Looking at what sorts of paragraphs our solution considers similar, for the first five identified topics\n",
    "paras_by_component=pd.DataFrame(X_train_lsa,index=X_train)\n",
    "for i in range(5):\n",
    "    print('Component {}:'.format(i))\n",
    "    print(paras_by_component.loc[:,i].sort_values(ascending=False)[0:10])"
   ]
  },
  {
   "cell_type": "code",
   "execution_count": 20,
   "metadata": {},
   "outputs": [
    {
     "data": {
      "image/png": "[encoded data removed]",
      "text/plain": [
       "<matplotlib.figure.Figure at 0x1d3d18ea1d0>"
      ]
     },
     "metadata": {},
     "output_type": "display_data"
    },
    {
     "name": "stdout",
     "output_type": "stream",
     "text": [
      "Key:\n",
      "0 You dirty lunatic, stand up, will you?\n",
      "1 He had returned to a late dinner, after some days' absence, and now walked up to Hartfield to say that all were well in Brunswick Square.\n",
      "2 \"There's our purse,\" said they; \"do what you please with it.\n",
      "3 Even if the people were not \"artists,\" the whole was nevertheless artistic.\n",
      "4 It was Miss Taylor's loss which first brought grief.\n",
      "5 Sir Arthur wished to enlarge his domain, and to make a ride round it.\n",
      "6 Are not sheep killed every day, and don't you eat mutton?\n",
      "7 Mrs. Price was an intelligent, active, domestic woman; but her health was not robust.\n",
      "8 And as not unfrequently happens to middle-aged gentlemen when they see a new youth opening before them, he found himself in the presence of the police.\n",
      "9 So thick bestrown, Abject and lost, lay these, covering the flood, Under amazement of their hideous change.\n"
     ]
    }
   ],
   "source": [
    "# Compute document similarity using LSA components\n",
    "similarity = np.asarray(np.asmatrix(X_train_lsa) * np.asmatrix(X_train_lsa).T)\n",
    "#Only taking the first 10 sentences\n",
    "sim_matrix=pd.DataFrame(similarity,index=X_train).iloc[0:10,0:10]\n",
    "#Making a plot\n",
    "ax = sns.heatmap(sim_matrix,yticklabels=range(10))\n",
    "plt.show()\n",
    "\n",
    "#Generating a key for the plot.\n",
    "print('Key:')\n",
    "for i in range(10):\n",
    "    print(i,sim_matrix.index[i])"
   ]
  },
  {
   "cell_type": "code",
   "execution_count": 21,
   "metadata": {},
   "outputs": [
    {
     "name": "stdout",
     "output_type": "stream",
     "text": [
      "(1050, 130) (1050,)\n",
      "Training set score: 0.837142857143\n"
     ]
    }
   ],
   "source": [
    "lr = LogisticRegression()\n",
    "train = lr.fit(X_train_lsa, y_train)\n",
    "print(X_train_lsa.shape, y_train.shape)\n",
    "print('Training set score:', lr.score(X_train_lsa, y_train))"
   ]
  },
  {
   "cell_type": "markdown",
   "metadata": {},
   "source": [
    "### The visual above shows that the tfidf vectorization technique did a satisfactory job of creating unique features."
   ]
  },
  {
   "cell_type": "markdown",
   "metadata": {},
   "source": [
    "### Lastly return to your holdout group. Does your clustering on those members perform as you'd expect? Have your clusters remained stable or changed dramatically? What about your model? Is it's performance consistent?"
   ]
  },
  {
   "cell_type": "code",
   "execution_count": 22,
   "metadata": {},
   "outputs": [
    {
     "name": "stdout",
     "output_type": "stream",
     "text": [
      "351\n",
      "Original sentence: Between _them_ it was more the intimacy of sisters.\n",
      "Tf_idf vector: {'satisfy': 0.43907496133756208, 'send': 0.42140135859773781, 'lease': 0.33251062208716348, 'stir': 0.43907496133756208, 'business': 0.32567753140247291, 'sir': 0.24644745871611551, 'good': 0.2501162797206628, 'home': 0.31132552107830808}\n"
     ]
    }
   ],
   "source": [
    "#Reshapes the vectorizer output into something people can read\n",
    "X_test_tfidf_csr = X_test_tfidf.tocsr()\n",
    "\n",
    "#number of paragraphs\n",
    "n = X_test_tfidf_csr.shape[0]\n",
    "print(n)\n",
    "#A list of dictionaries, one per paragraph\n",
    "tfidf_bypara = [{} for _ in range(0,n)]\n",
    "#List of features\n",
    "terms = vectorizer.get_feature_names()\n",
    "#for each paragraph, lists the feature words and their tf-idf scores\n",
    "for i, j in zip(*X_test_tfidf_csr.nonzero()):\n",
    "    tfidf_bypara[i][terms[j]] = X_test_tfidf_csr[i, j]\n",
    "\n",
    "#Keep in mind that the log base 2 of 1 is 0, so a tf-idf score of 0 indicates that the word was present once in that sentence.\n",
    "print('Original sentence:', X_test[4])\n",
    "print('Tf_idf vector:', tfidf_bypara[4])"
   ]
  },
  {
   "cell_type": "code",
   "execution_count": 23,
   "metadata": {},
   "outputs": [
    {
     "name": "stdout",
     "output_type": "stream",
     "text": [
      "Percent variance captured by all components: 60.3366371068\n",
      "Component 0:\n",
      "0\n",
      "(\", Everything, shall, be, ready, ,, dear, mother, ;, only, do, n't, hurry, yourself, ,, \", said, Susan, .)                                                                                                                                                                                                                      0.544438\n",
      "(And, if, YOU, could, help, it, ,, Susan, ?, \", said, he, .)                                                                                                                                                                                                                                                                     0.528491\n",
      "(\", I, shall, not, forget, it, ,, \", said, Susan, ,, steadily, .)                                                                                                                                                                                                                                                                0.500955\n",
      "(\", That, 's, a, pity, ., \", \", It, ca, n't, be, helped, ,, \", said, Susan, ,, with, a, sigh, ., \", It, ca, n't, be, helped, how, do, you, know, that, ?, \", said, Case, ., \", Sir, ,, DEAR, sir, !, \", cried, she, ,, looking, up, at, him, ,, and, a, sudden, ray, of, hope, beamed, in, her, ingenuous, countenance, ., \")    0.465043\n",
      "(Something, 's, amiss, ,, Susan, ,, \", said, her, mother, ,, raising, herself, as, well, as, she, was, able, in, the, bed, ,, to, examine, her, daughter, 's, countenance, ., \")                                                                                                                                                 0.403482\n",
      "(Would, you, think, it, amiss, ,, then, ,, my, dear, mother, ,, \", said, Susan, ,, stooping, to, kiss, her, \", would, you, think, it, amiss, ,, if, my, father, was, to, stay, with, us, a, week, longer, ?, \", \", Susan, !)                                                                                                     0.397932\n",
      "(\", If, you, do, n't, like, it, ,, I, will, change, it, ,, and, now, you, will, be, so, good, as, to, give, me, Susan, 's, guinea, -, hen, .)                                                                                                                                                                                    0.376911\n",
      "(said, she, ,, to, herself, ;, \", but, I, know, he, will, be, a, little, sorry, too, for, my, poor, lamb, ., \")                                                                                                                                                                                                                  0.366413\n",
      "(\", Take, it, ,, then, ,, child, ,, \", said, he, ,, pulling, it, off, \", I, shall, soon, have, no, coat, to, dry, and, take, my, hat, ,, too, ,, \", said, he, ,, throwing, it, upon, the, ground, .)                                                                                                                             0.365071\n",
      "(\", And, I, wish, Susan, would, come, ,, I, 'm, sure, ,, \", cried, a, little, girl, ,, whose, lap, was, full, of, primroses, ., \")                                                                                                                                                                                               0.359848\n",
      "Name: 0, dtype: float64\n",
      "Component 1:\n",
      "0\n",
      "(\", Not, at, all, ,, sir, .)                                                                                                                                                                                     0.692578\n",
      "(Well, ,, sir, ,, \", said, the, editor, of, _)                                                                                                                                                                   0.615113\n",
      "(Now, ,, sir, ,, this, ,, you, see, ,, is, a, lease, in, reversion, ,, which, the, late, Sir, Benjamin, Somers, had, not, ,, by, his, settlement, ,, a, right, to, make, .)                                      0.612576\n",
      "(Sir, Arthur, Somers, was, an, excellent, lawyer, ,, and, a, perfectly, honest, man, .)                                                                                                                          0.605196\n",
      "(There, 's, only, one, thing, we, have, forgotten, all, this, time, ,, \", said, Sir, Arthur, .)                                                                                                                  0.566987\n",
      "(Sir, Arthur, Somers, had, two, sisters, ,, sensible, ,, benevolent, women, .)                                                                                                                                   0.456829\n",
      "(Look, at, it, ., \", Susan, looked, and, blushed, ;, it, was, written, ,, \", Sir, Arthur, Somers, ,, to, John, Price, ,, debtor, ,, six, dozen, LAMBS, ,, so, much, ., \")                                        0.412247\n",
      "(The, attorney, ,, brightening, up, ,, prepared, to, take, leave, ;, but, he, could, not, persuade, himself, to, take, his, departure, without, making, one, push, at, Sir, Arthur, about, the, agency, ., \")    0.400358\n",
      "(This, is, a, curious, mistake, ,, you, see, ,, Sir, Arthur, ;, and, in, filling, up, those, printed, leases, there, 's, always, a, good, chance, of, some, flaw, .)                                             0.345477\n",
      "(Your, servant, ,, sir, ., \", Price, retired, with, melancholy, feelings, ,, but, not, intimidated, .)                                                                                                           0.330273\n",
      "Name: 1, dtype: float64\n",
      "Component 2:\n",
      "0\n",
      "(\", A, house, of, her, own, !)                                                                                                                                                                                                                                                                                                                                                                                                                                                                                                                                                               0.685144\n",
      "(\", Can, you, be, anything, else, when, you, plaster, your, own, house, with, that, God, -, defying, filth, ?)                                                                                                                                                                                                                                                                                                                                                                                                                                                                               0.642777\n",
      "(But, where, is, the, advantage, of, a, house, of, her, own, ?)                                                                                                                                                                                                                                                                                                                                                                                                                                                                                                                              0.630843\n",
      "(And, she, flounced, out, of, the, house, ,, repeating, \", TAKE, A, SPOON, ,, PIG, ,, was, what, you, meant, to, say, .)                                                                                                                                                                                                                                                                                                                                                                                                                                                                     0.562206\n",
      "(Miss, Barbara, 's, maid, Betty, was, the, first, person, that, was, visible, at, the, attorney, 's, house, .)                                                                                                                                                                                                                                                                                                                                                                                                                                                                               0.475810\n",
      "(Gregory, gave, through, the, trap, the, address, of, an, obscure, public, -, house, on, the, Chiswick, bank, of, the, river, .)                                                                                                                                                                                                                                                                                                                                                                                                                                                             0.407557\n",
      "(The, moment, Price, got, the, money, ,, he, hastened, to, Mr., Case, 's, house, ,, walked, straight, forward, into, his, room, ,, and, laying, the, money, down, upon, his, desk, ,, \", There, ,, Mr., Attorney, ,, are, your, nine, guineas, ;, count, them, ;, now, I, have, done, with, you, ., \")                                                                                                                                                                                                                                                                                       0.371515\n",
      "(No, one, could, dispute, her, right, to, come, ;, the, house, was, her, husband, 's, from, the, moment, of, his, father, 's, decease, ;, but, the, indelicacy, of, her, conduct, was, so, much, the, greater, ,, and, to, a, woman, in, Mrs., Dashwood, 's, situation, ,, with, only, common, feelings, ,, must, have, been, highly, unpleasing, ;, but, in, HER, mind, there, was, a, sense, of, honor, so, keen, ,, a, generosity, so, romantic, ,, that, any, offence, of, the, kind, ,, by, whomsoever, given, or, received, ,, was, to, her, a, source, of, immoveable, disgust, .)    0.336251\n",
      "(There, is, nobody, in, Highbury, who, deserves, him, and, he, has, been, here, a, whole, year, ,, and, has, fitted, up, his, house, so, comfortably, ,, that, it, would, be, a, shame, to, have, him, single, any, longer, and, I, thought, when, he, was, joining, their, hands, to, -, day, ,, he, looked, so, very, much, as, if, he, would, like, to, have, the, same, kind, office, done, for, him, !, I, think, very, well, of, Mr., Elton, ,, and, this, is, the, only, way, I, have, of, doing, him, a, service, ., \", \")                                                           0.330853\n",
      "(She, was, the, youngest, of, the, two, daughters, of, a, most, affectionate, ,, indulgent, father, ;, and, had, ,, in, consequence, of, her, sister, 's, marriage, ,, been, mistress, of, his, house, from, a, very, early, period, .)                                                                                                                                                                                                                                                                                                                                                      0.329649\n"
     ]
    },
    {
     "name": "stdout",
     "output_type": "stream",
     "text": [
      "Name: 2, dtype: float64\n",
      "Component 3:\n",
      "0\n",
      "(Evan, lived, like, a, man, walking, on, a, borderland, ,, the, borderland, between, this, world, and, another, .)                                                    0.506231\n",
      "(\", That, we, shall, ruin, this, poor, man, ., \")                                                                                                                     0.451720\n",
      "(Well, ,, well, ., \", Evan, went, out, of, the, Court, of, Justice, free, ,, but, strangely, shaken, ,, like, a, sick, man, .)                                        0.406749\n",
      "(This, man, only, gave, expression, to, his, sincere, belief, ., \")                                                                                                   0.391326\n",
      "(\", As, how, ,, man, !, Why, ,, you, said, something, about, its, not, belonging, to, me, ,, when, you, heard, me, talk, of, inclosing, it, the, other, day, ., \")    0.374736\n",
      "(For, Heaven, 's, sake, ,, man, ,, \", he, said, ,, \", do, n't, talk, so, much, .)                                                                                     0.362327\n",
      "(The, little, man, who, edited, _)                                                                                                                                    0.353434\n",
      "(He, was, a, young, man, in, a, grey, plaid, ,, and, he, smashed, the, window, .)                                                                                     0.346189\n",
      "(Depend, upon, it, ,, a, man, of, six, or, seven, -, and, -, twenty, can, take, care, of, himself, ., \")                                                              0.318642\n",
      "(For, he, was, a, sincere, man, ,, and, in, spite, of, his, superficial, airs, and, graces, ,, at, root, a, humble, one, .)                                           0.311731\n",
      "Name: 3, dtype: float64\n",
      "Component 4:\n",
      "0\n",
      "(\", A, house, of, her, own, !)                                                                                                                                                                                                                                                                            0.431484\n",
      "(But, where, is, the, advantage, of, a, house, of, her, own, ?)                                                                                                                                                                                                                                           0.402301\n",
      "(And, she, flounced, out, of, the, house, ,, repeating, \", TAKE, A, SPOON, ,, PIG, ,, was, what, you, meant, to, say, .)                                                                                                                                                                                  0.393343\n",
      "(\", Can, you, be, anything, else, when, you, plaster, your, own, house, with, that, God, -, defying, filth, ?)                                                                                                                                                                                            0.375538\n",
      "(\", I, shall, not, forget, it, ,, \", said, Susan, ,, steadily, .)                                                                                                                                                                                                                                         0.333009\n",
      "(Miss, Barbara, 's, maid, Betty, was, the, first, person, that, was, visible, at, the, attorney, 's, house, .)                                                                                                                                                                                            0.313119\n",
      "(SHALL, I, PROCEED, ?, \", \")                                                                                                                                                                                                                                                                              0.296146\n",
      "(\", Take, it, ,, then, ,, child, ,, \", said, he, ,, pulling, it, off, \", I, shall, soon, have, no, coat, to, dry, and, take, my, hat, ,, too, ,, \", said, he, ,, throwing, it, upon, the, ground, .)                                                                                                      0.260238\n",
      "(The, moment, Price, got, the, money, ,, he, hastened, to, Mr., Case, 's, house, ,, walked, straight, forward, into, his, room, ,, and, laying, the, money, down, upon, his, desk, ,, \", There, ,, Mr., Attorney, ,, are, your, nine, guineas, ;, count, them, ;, now, I, have, done, with, you, ., \")    0.253398\n",
      "(\", More, fool, you, ,, \", said, he, ., \")                                                                                                                                                                                                                                                                0.252105\n",
      "Name: 4, dtype: float64\n"
     ]
    }
   ],
   "source": [
    "#Our SVD data reducer.\n",
    "svd= TruncatedSVD(130)\n",
    "lsa = make_pipeline(svd, Normalizer(copy=False))\n",
    "# Run SVD on the test data, then project the test data.\n",
    "X_test_lsa = lsa.fit_transform(X_test_tfidf)\n",
    "\n",
    "variance_explained=svd.explained_variance_ratio_\n",
    "total_variance = variance_explained.sum()\n",
    "print(\"Percent variance captured by all components:\",total_variance*100)\n",
    "\n",
    "#Looking at what sorts of paragraphs our solution considers similar, for the first five identified topics\n",
    "paras_by_component=pd.DataFrame(X_test_lsa,index=X_test)\n",
    "for i in range(5):\n",
    "    print('Component {}:'.format(i))\n",
    "    print(paras_by_component.loc[:,i].sort_values(ascending=False)[0:10])"
   ]
  },
  {
   "cell_type": "code",
   "execution_count": 24,
   "metadata": {},
   "outputs": [
    {
     "data": {
      "image/png": "[encoded data removed]",
      "text/plain": [
       "<matplotlib.figure.Figure at 0x1d3cf39ec50>"
      ]
     },
     "metadata": {},
     "output_type": "display_data"
    },
    {
     "name": "stdout",
     "output_type": "stream",
     "text": [
      "Key:\n",
      "0 Gradually as this poor woman collected her scattered thoughts, she recalled the circumstances of the preceding evening.\n",
      "1 And that is just what Buster Bear was doing, and it was very plain to see that he was having great fun.\n",
      "2 Does it occur to you that there is any one article in which we can retrench?\" and Elizabeth, to do her justice, had, in the first ardour of female alarm, set seriously to think what could be done, and had finally proposed these two branches of economy, to cut off some unnecessary charities, and to refrain from new furnishing the drawing-room; to which expedients she afterwards added the happy thought of their taking no present down to Anne, as had been the usual yearly custom.\n",
      "3 And if YOU could help it, Susan?\" said he.\n",
      "4 When you go home, you will be so good, sir, as to send me his lease, that I may satisfy myself before we stir in this business.\"\n",
      "5 Year after year went by, and year after year the death of God in a shop in Ludgate became a less and less important occurrence.\n",
      "6 (Applause.)\n",
      "7 It contained exactly twelve sovereigns.\n",
      "8 Yet not for those,\n",
      "9 The son, a steady respectable young man, was amply provided for by the fortune of his mother, which had been large, and half of which devolved on him on his coming of age.\n"
     ]
    }
   ],
   "source": [
    "# Compute document similarity using LSA components\n",
    "similarity = np.asarray(np.asmatrix(X_test_lsa) * np.asmatrix(X_test_lsa).T)\n",
    "#Only taking the first 10 sentences\n",
    "sim_matrix=pd.DataFrame(similarity,index=X_test).iloc[0:10,0:10]\n",
    "#Making a plot\n",
    "ax = sns.heatmap(sim_matrix,yticklabels=range(10))\n",
    "plt.show()\n",
    "\n",
    "#Generating a key for the plot.\n",
    "print('Key:')\n",
    "for i in range(10):\n",
    "    print(i,sim_matrix.index[i])"
   ]
  },
  {
   "cell_type": "markdown",
   "metadata": {},
   "source": [
    "### The above visual shows that the tfidf vectorization performed well in creating unique features for the ten sample sentences, with the exception of sentences three and eight having a higher correlation of .4."
   ]
  },
  {
   "cell_type": "code",
   "execution_count": 25,
   "metadata": {},
   "outputs": [
    {
     "name": "stdout",
     "output_type": "stream",
     "text": [
      "(351, 130) (351,)\n",
      "Test set score: 0.803418803419\n"
     ]
    }
   ],
   "source": [
    "train = lr.fit(X_test_lsa, y_test)\n",
    "print(X_test_lsa.shape, y_test.shape)\n",
    "print('Test set score:', lr.score(X_test_lsa, y_test))"
   ]
  },
  {
   "cell_type": "markdown",
   "metadata": {},
   "source": [
    "### The results of the test set score (82.62%) are similar to the results of the train set score (82.76%) and show a relative stability in the logistic regression model across the train and test set."
   ]
  },
  {
   "cell_type": "markdown",
   "metadata": {},
   "source": [
    "# Results:\n",
    "\n",
    "### The project used a combination of supervised and unsupervised techniques to classify sentences by author. The Latent Semantic Analysis method captured 40.766% of the variance on the training set and 60.347% of the variance on the test set. This improvement ensures that the model is not subject to overfitting to the training set and that more exploratory analysis could yield a further improvement to results."
   ]
  }
 ],
 "metadata": {
  "kernelspec": {
   "display_name": "Python 3",
   "language": "python",
   "name": "python3"
  },
  "language_info": {
   "codemirror_mode": {
    "name": "ipython",
    "version": 3
   },
   "file_extension": ".py",
   "mimetype": "text/x-python",
   "name": "python",
   "nbconvert_exporter": "python",
   "pygments_lexer": "ipython3",
   "version": "3.6.3"
  }
 },
 "nbformat": 4,
 "nbformat_minor": 2
}
